{
 "cells": [
  {
   "cell_type": "markdown",
   "source": [],
   "metadata": {
    "collapsed": false
   }
  },
  {
   "cell_type": "markdown",
   "source": [
    "# This file is used to train"
   ],
   "metadata": {
    "collapsed": false
   }
  },
  {
   "cell_type": "code",
   "execution_count": 1,
   "outputs": [],
   "source": [
    "import torch\n",
    "import numpy as np\n",
    "from tqdm import tqdm\n",
    "import pandas as pd\n",
    "from sc_model import SC_LSTM as Model"
   ],
   "metadata": {
    "collapsed": false,
    "ExecuteTime": {
     "start_time": "2023-07-11T07:36:16.175220Z",
     "end_time": "2023-07-11T07:36:17.747793Z"
    }
   }
  },
  {
   "cell_type": "markdown",
   "source": [
    "# Device init"
   ],
   "metadata": {
    "collapsed": false
   }
  },
  {
   "cell_type": "code",
   "execution_count": 2,
   "outputs": [
    {
     "name": "stdout",
     "output_type": "stream",
     "text": [
      "Tue Jul 11 07:36:17 2023       \r\n",
      "+---------------------------------------------------------------------------------------+\r\n",
      "| NVIDIA-SMI 530.41.03              Driver Version: 530.41.03    CUDA Version: 12.1     |\r\n",
      "|-----------------------------------------+----------------------+----------------------+\r\n",
      "| GPU  Name                  Persistence-M| Bus-Id        Disp.A | Volatile Uncorr. ECC |\r\n",
      "| Fan  Temp  Perf            Pwr:Usage/Cap|         Memory-Usage | GPU-Util  Compute M. |\r\n",
      "|                                         |                      |               MIG M. |\r\n",
      "|=========================================+======================+======================|\r\n",
      "|   0  NVIDIA GeForce GTX 1650 Ti      Off| 00000000:01:00.0  On |                  N/A |\r\n",
      "| N/A   46C    P5               10W /  N/A|    943MiB /  4096MiB |     11%      Default |\r\n",
      "|                                         |                      |                  N/A |\r\n",
      "+-----------------------------------------+----------------------+----------------------+\r\n",
      "                                                                                         \r\n",
      "+---------------------------------------------------------------------------------------+\r\n",
      "| Processes:                                                                            |\r\n",
      "|  GPU   GI   CI        PID   Type   Process name                            GPU Memory |\r\n",
      "|        ID   ID                                                             Usage      |\r\n",
      "|=======================================================================================|\r\n",
      "|    0   N/A  N/A       572      G   /usr/lib/Xorg                               403MiB |\r\n",
      "|    0   N/A  N/A       636      G   /usr/bin/kwalletd5                            1MiB |\r\n",
      "|    0   N/A  N/A       725      G   /usr/bin/ksmserver                            1MiB |\r\n",
      "|    0   N/A  N/A       727      G   /usr/bin/kded5                                1MiB |\r\n",
      "|    0   N/A  N/A       730      G   /usr/bin/kwin_x11                           138MiB |\r\n",
      "|    0   N/A  N/A       799      G   ...b/polkit-kde-authentication-agent-1       15MiB |\r\n",
      "|    0   N/A  N/A       801      G   /usr/lib/xdg-desktop-portal-kde               1MiB |\r\n",
      "|    0   N/A  N/A       955      G   /usr/lib/kdeconnectd                          1MiB |\r\n",
      "|    0   N/A  N/A       958      G   /usr/bin/latte-dock                          20MiB |\r\n",
      "|    0   N/A  N/A       966      G   /usr/bin/kaccess                              1MiB |\r\n",
      "|    0   N/A  N/A       974      G   /usr/bin/kalendarac                           1MiB |\r\n",
      "|    0   N/A  N/A       979      G   /usr/bin/kmix                                 1MiB |\r\n",
      "|    0   N/A  N/A       988      G   /usr/lib/DiscoverNotifier                     1MiB |\r\n",
      "|    0   N/A  N/A      1182      G   /usr/bin/ktorrent                             1MiB |\r\n",
      "|    0   N/A  N/A      1209      G   /usr/bin/yakuake                             15MiB |\r\n",
      "|    0   N/A  N/A      2023      G   ...bin/plasma-browser-integration-host        1MiB |\r\n",
      "|    0   N/A  N/A     52012      G   /usr/bin/krunner                             36MiB |\r\n",
      "|    0   N/A  N/A     74929      G   /usr/bin/telegram-desktop                    32MiB |\r\n",
      "|    0   N/A  N/A    145609      G   /usr/bin/plasmashell                         89MiB |\r\n",
      "|    0   N/A  N/A    157456      G   ...35454217,2260994688081749193,131072      135MiB |\r\n",
      "|    0   N/A  N/A    225781      G   /usr/bin/konsole                              1MiB |\r\n",
      "+---------------------------------------------------------------------------------------+\r\n",
      "NVIDIA GeForce GTX 1650 Ti\n"
     ]
    }
   ],
   "source": [
    "device = torch.device('cuda' if torch.cuda.is_available() else 'cpu')\n",
    "if device.type == 'cuda':\n",
    "    !nvidia-smi\n",
    "    print(torch.cuda.get_device_name(0))\n",
    "\n",
    "else:\n",
    "    print(\"No GPU :(\")"
   ],
   "metadata": {
    "collapsed": false,
    "ExecuteTime": {
     "start_time": "2023-07-11T07:36:17.756262Z",
     "end_time": "2023-07-11T07:36:17.916583Z"
    }
   }
  },
  {
   "cell_type": "code",
   "execution_count": 3,
   "outputs": [],
   "source": [
    "device = 'cpu'"
   ],
   "metadata": {
    "collapsed": false,
    "ExecuteTime": {
     "start_time": "2023-07-11T07:36:17.917977Z",
     "end_time": "2023-07-11T07:36:17.921058Z"
    }
   }
  },
  {
   "cell_type": "markdown",
   "source": [
    "## Loading the data"
   ],
   "metadata": {
    "collapsed": false
   }
  },
  {
   "cell_type": "code",
   "execution_count": 4,
   "outputs": [
    {
     "data": {
      "text/plain": "   Label Number  Duration  Importance Start Time        Date\n0             1        30           0      03:00  10/07/2023\n1             1        60           1      09:00  10/07/2023\n2             1       120           1      12:00  10/07/2023\n3             1        30           1      15:00  10/07/2023\n4             1        60           0      19:00  10/07/2023\n5             1       120           0      22:00  10/07/2023\n6             1       240           1      02:00  11/07/2023\n7             1        30           1      06:00  11/07/2023\n8             1        60           0      11:00  11/07/2023\n9             1       500           0      16:00  11/07/2023",
      "text/html": "<div>\n<style scoped>\n    .dataframe tbody tr th:only-of-type {\n        vertical-align: middle;\n    }\n\n    .dataframe tbody tr th {\n        vertical-align: top;\n    }\n\n    .dataframe thead th {\n        text-align: right;\n    }\n</style>\n<table border=\"1\" class=\"dataframe\">\n  <thead>\n    <tr style=\"text-align: right;\">\n      <th></th>\n      <th>Label Number</th>\n      <th>Duration</th>\n      <th>Importance</th>\n      <th>Start Time</th>\n      <th>Date</th>\n    </tr>\n  </thead>\n  <tbody>\n    <tr>\n      <th>0</th>\n      <td>1</td>\n      <td>30</td>\n      <td>0</td>\n      <td>03:00</td>\n      <td>10/07/2023</td>\n    </tr>\n    <tr>\n      <th>1</th>\n      <td>1</td>\n      <td>60</td>\n      <td>1</td>\n      <td>09:00</td>\n      <td>10/07/2023</td>\n    </tr>\n    <tr>\n      <th>2</th>\n      <td>1</td>\n      <td>120</td>\n      <td>1</td>\n      <td>12:00</td>\n      <td>10/07/2023</td>\n    </tr>\n    <tr>\n      <th>3</th>\n      <td>1</td>\n      <td>30</td>\n      <td>1</td>\n      <td>15:00</td>\n      <td>10/07/2023</td>\n    </tr>\n    <tr>\n      <th>4</th>\n      <td>1</td>\n      <td>60</td>\n      <td>0</td>\n      <td>19:00</td>\n      <td>10/07/2023</td>\n    </tr>\n    <tr>\n      <th>5</th>\n      <td>1</td>\n      <td>120</td>\n      <td>0</td>\n      <td>22:00</td>\n      <td>10/07/2023</td>\n    </tr>\n    <tr>\n      <th>6</th>\n      <td>1</td>\n      <td>240</td>\n      <td>1</td>\n      <td>02:00</td>\n      <td>11/07/2023</td>\n    </tr>\n    <tr>\n      <th>7</th>\n      <td>1</td>\n      <td>30</td>\n      <td>1</td>\n      <td>06:00</td>\n      <td>11/07/2023</td>\n    </tr>\n    <tr>\n      <th>8</th>\n      <td>1</td>\n      <td>60</td>\n      <td>0</td>\n      <td>11:00</td>\n      <td>11/07/2023</td>\n    </tr>\n    <tr>\n      <th>9</th>\n      <td>1</td>\n      <td>500</td>\n      <td>0</td>\n      <td>16:00</td>\n      <td>11/07/2023</td>\n    </tr>\n  </tbody>\n</table>\n</div>"
     },
     "execution_count": 4,
     "metadata": {},
     "output_type": "execute_result"
    }
   ],
   "source": [
    "# Create a dataframe with 5 (Label_Number, Duration, Importance, Start_time, Date) columns and 6 rows\n",
    "df = pd.DataFrame(np.random.randint(0, 100, size=(10, 5)), columns=['Label Number', 'Duration', 'Importance', 'Start Time', 'Date'])\n",
    "\n",
    "# Fill it with 10 individs manually\n",
    "ind_1 = [1, 30, 0, '03:00', '10/07/2023']\n",
    "ind_2 = [1, 60, 1, '09:00', '10/07/2023']\n",
    "ind_3 = [1, 120, 1, '12:00', '10/07/2023']\n",
    "ind_4 = [1, 30, 1, '15:00', '10/07/2023']\n",
    "ind_5 = [1, 60, 0, '19:00', '10/07/2023']\n",
    "ind_6 = [1, 120, 0, '22:00', '10/07/2023']\n",
    "ind_7 = [1, 240, 1, '02:00', '11/07/2023']\n",
    "ind_8 = [1, 30, 1, '06:00', '11/07/2023']\n",
    "ind_9 = [1, 60, 0, '11:00', '11/07/2023']\n",
    "ind_10 = [1, 500, 0, '16:00', '11/07/2023']\n",
    "\n",
    "\n",
    "\n",
    "df.loc[0] = ind_1\n",
    "df.loc[1] = ind_2\n",
    "df.loc[2] = ind_3\n",
    "df.loc[3] = ind_4\n",
    "df.loc[4] = ind_5\n",
    "df.loc[5] = ind_6\n",
    "df.loc[6] = ind_7\n",
    "df.loc[7] = ind_8\n",
    "df.loc[8] = ind_9\n",
    "df.loc[9] = ind_10\n",
    "\n",
    "# Save it into Data/test_schedule.csv\n",
    "df.to_csv('../Data/test_schedule.csv', index=False)\n",
    "df"
   ],
   "metadata": {
    "collapsed": false,
    "ExecuteTime": {
     "start_time": "2023-07-11T07:36:17.928869Z",
     "end_time": "2023-07-11T07:36:18.131782Z"
    }
   }
  },
  {
   "cell_type": "code",
   "execution_count": 5,
   "outputs": [],
   "source": [
    "from Data.PreprocessorOfGeneratedData import Preprocessor\n",
    "\n",
    "preproc = Preprocessor()\n",
    "\n",
    "input_data, type_vector, output_data = preproc.preprocess('../Data/test_schedule.csv')"
   ],
   "metadata": {
    "collapsed": false,
    "ExecuteTime": {
     "start_time": "2023-07-11T07:36:18.023300Z",
     "end_time": "2023-07-11T07:36:18.132157Z"
    }
   }
  },
  {
   "cell_type": "code",
   "execution_count": 6,
   "outputs": [
    {
     "data": {
      "text/plain": "   Label Number_0  Label Number_1  Label Number_2  Label Number_3  Duration  \\\n0               0               1               0               0  0.125000   \n1               0               1               0               0  0.250000   \n2               0               1               0               0  0.500000   \n3               0               1               0               0  0.125000   \n4               0               1               0               0  0.250000   \n5               0               1               0               0  0.500000   \n6               0               1               0               0  1.000000   \n7               0               1               0               0  0.125000   \n8               0               1               0               0  0.250000   \n9               0               1               0               0  2.083333   \n\n   Importance  Time_Min  Time_Min_sin  Time_Min_cos  Date_Categorical  \\\n0        0.00  0.004861  7.071068e-01  7.071068e-01          0.523288   \n1        0.25  0.254861  7.071068e-01 -7.071068e-01          0.523288   \n2        0.25  0.379861  1.224647e-16 -1.000000e+00          0.523288   \n3        0.25  0.504861 -7.071068e-01 -7.071068e-01          0.523288   \n4        0.00  0.671528 -9.659258e-01  2.588190e-01          0.523288   \n5        0.00  0.005556 -5.000000e-01  8.660254e-01          0.523288   \n6        0.25  0.002083  5.000000e-01  8.660254e-01          0.526027   \n7        0.25  0.168750  1.000000e+00  6.123234e-17          0.526027   \n8        0.00  0.377083  2.588190e-01 -9.659258e-01          0.526027   \n9        0.00  0.585417 -8.660254e-01 -5.000000e-01          0.526027   \n\n   Date_Day_sin  Date_Day_cos  Date_Month_sin  Date_Month_cos  \n0      0.897805     -0.440394            -0.5       -0.866025  \n1      0.897805     -0.440394            -0.5       -0.866025  \n2      0.897805     -0.440394            -0.5       -0.866025  \n3      0.897805     -0.440394            -0.5       -0.866025  \n4      0.897805     -0.440394            -0.5       -0.866025  \n5      0.897805     -0.440394            -0.5       -0.866025  \n6      0.790776     -0.612106            -0.5       -0.866025  \n7      0.790776     -0.612106            -0.5       -0.866025  \n8      0.790776     -0.612106            -0.5       -0.866025  \n9      0.790776     -0.612106            -0.5       -0.866025  ",
      "text/html": "<div>\n<style scoped>\n    .dataframe tbody tr th:only-of-type {\n        vertical-align: middle;\n    }\n\n    .dataframe tbody tr th {\n        vertical-align: top;\n    }\n\n    .dataframe thead th {\n        text-align: right;\n    }\n</style>\n<table border=\"1\" class=\"dataframe\">\n  <thead>\n    <tr style=\"text-align: right;\">\n      <th></th>\n      <th>Label Number_0</th>\n      <th>Label Number_1</th>\n      <th>Label Number_2</th>\n      <th>Label Number_3</th>\n      <th>Duration</th>\n      <th>Importance</th>\n      <th>Time_Min</th>\n      <th>Time_Min_sin</th>\n      <th>Time_Min_cos</th>\n      <th>Date_Categorical</th>\n      <th>Date_Day_sin</th>\n      <th>Date_Day_cos</th>\n      <th>Date_Month_sin</th>\n      <th>Date_Month_cos</th>\n    </tr>\n  </thead>\n  <tbody>\n    <tr>\n      <th>0</th>\n      <td>0</td>\n      <td>1</td>\n      <td>0</td>\n      <td>0</td>\n      <td>0.125000</td>\n      <td>0.00</td>\n      <td>0.004861</td>\n      <td>7.071068e-01</td>\n      <td>7.071068e-01</td>\n      <td>0.523288</td>\n      <td>0.897805</td>\n      <td>-0.440394</td>\n      <td>-0.5</td>\n      <td>-0.866025</td>\n    </tr>\n    <tr>\n      <th>1</th>\n      <td>0</td>\n      <td>1</td>\n      <td>0</td>\n      <td>0</td>\n      <td>0.250000</td>\n      <td>0.25</td>\n      <td>0.254861</td>\n      <td>7.071068e-01</td>\n      <td>-7.071068e-01</td>\n      <td>0.523288</td>\n      <td>0.897805</td>\n      <td>-0.440394</td>\n      <td>-0.5</td>\n      <td>-0.866025</td>\n    </tr>\n    <tr>\n      <th>2</th>\n      <td>0</td>\n      <td>1</td>\n      <td>0</td>\n      <td>0</td>\n      <td>0.500000</td>\n      <td>0.25</td>\n      <td>0.379861</td>\n      <td>1.224647e-16</td>\n      <td>-1.000000e+00</td>\n      <td>0.523288</td>\n      <td>0.897805</td>\n      <td>-0.440394</td>\n      <td>-0.5</td>\n      <td>-0.866025</td>\n    </tr>\n    <tr>\n      <th>3</th>\n      <td>0</td>\n      <td>1</td>\n      <td>0</td>\n      <td>0</td>\n      <td>0.125000</td>\n      <td>0.25</td>\n      <td>0.504861</td>\n      <td>-7.071068e-01</td>\n      <td>-7.071068e-01</td>\n      <td>0.523288</td>\n      <td>0.897805</td>\n      <td>-0.440394</td>\n      <td>-0.5</td>\n      <td>-0.866025</td>\n    </tr>\n    <tr>\n      <th>4</th>\n      <td>0</td>\n      <td>1</td>\n      <td>0</td>\n      <td>0</td>\n      <td>0.250000</td>\n      <td>0.00</td>\n      <td>0.671528</td>\n      <td>-9.659258e-01</td>\n      <td>2.588190e-01</td>\n      <td>0.523288</td>\n      <td>0.897805</td>\n      <td>-0.440394</td>\n      <td>-0.5</td>\n      <td>-0.866025</td>\n    </tr>\n    <tr>\n      <th>5</th>\n      <td>0</td>\n      <td>1</td>\n      <td>0</td>\n      <td>0</td>\n      <td>0.500000</td>\n      <td>0.00</td>\n      <td>0.005556</td>\n      <td>-5.000000e-01</td>\n      <td>8.660254e-01</td>\n      <td>0.523288</td>\n      <td>0.897805</td>\n      <td>-0.440394</td>\n      <td>-0.5</td>\n      <td>-0.866025</td>\n    </tr>\n    <tr>\n      <th>6</th>\n      <td>0</td>\n      <td>1</td>\n      <td>0</td>\n      <td>0</td>\n      <td>1.000000</td>\n      <td>0.25</td>\n      <td>0.002083</td>\n      <td>5.000000e-01</td>\n      <td>8.660254e-01</td>\n      <td>0.526027</td>\n      <td>0.790776</td>\n      <td>-0.612106</td>\n      <td>-0.5</td>\n      <td>-0.866025</td>\n    </tr>\n    <tr>\n      <th>7</th>\n      <td>0</td>\n      <td>1</td>\n      <td>0</td>\n      <td>0</td>\n      <td>0.125000</td>\n      <td>0.25</td>\n      <td>0.168750</td>\n      <td>1.000000e+00</td>\n      <td>6.123234e-17</td>\n      <td>0.526027</td>\n      <td>0.790776</td>\n      <td>-0.612106</td>\n      <td>-0.5</td>\n      <td>-0.866025</td>\n    </tr>\n    <tr>\n      <th>8</th>\n      <td>0</td>\n      <td>1</td>\n      <td>0</td>\n      <td>0</td>\n      <td>0.250000</td>\n      <td>0.00</td>\n      <td>0.377083</td>\n      <td>2.588190e-01</td>\n      <td>-9.659258e-01</td>\n      <td>0.526027</td>\n      <td>0.790776</td>\n      <td>-0.612106</td>\n      <td>-0.5</td>\n      <td>-0.866025</td>\n    </tr>\n    <tr>\n      <th>9</th>\n      <td>0</td>\n      <td>1</td>\n      <td>0</td>\n      <td>0</td>\n      <td>2.083333</td>\n      <td>0.00</td>\n      <td>0.585417</td>\n      <td>-8.660254e-01</td>\n      <td>-5.000000e-01</td>\n      <td>0.526027</td>\n      <td>0.790776</td>\n      <td>-0.612106</td>\n      <td>-0.5</td>\n      <td>-0.866025</td>\n    </tr>\n  </tbody>\n</table>\n</div>"
     },
     "execution_count": 6,
     "metadata": {},
     "output_type": "execute_result"
    }
   ],
   "source": [
    "input_data"
   ],
   "metadata": {
    "collapsed": false,
    "ExecuteTime": {
     "start_time": "2023-07-11T07:36:18.046515Z",
     "end_time": "2023-07-11T07:36:18.133446Z"
    }
   }
  },
  {
   "cell_type": "code",
   "execution_count": 7,
   "outputs": [
    {
     "data": {
      "text/plain": "          0         1         2\n0  0.004861  0.025694  0.004861\n1  0.254861  0.041667  0.000000\n2  0.379861  0.083333  0.000000\n3  0.504861  0.010417  0.010417\n4  0.671528  0.041667  0.000000\n5  0.005556  0.083333  0.000000\n6  0.002083  0.166667  0.000000\n7  0.168750  0.020833  0.000000\n8  0.377083  0.041667  0.000000\n9  0.585417  0.347222  0.000000",
      "text/html": "<div>\n<style scoped>\n    .dataframe tbody tr th:only-of-type {\n        vertical-align: middle;\n    }\n\n    .dataframe tbody tr th {\n        vertical-align: top;\n    }\n\n    .dataframe thead th {\n        text-align: right;\n    }\n</style>\n<table border=\"1\" class=\"dataframe\">\n  <thead>\n    <tr style=\"text-align: right;\">\n      <th></th>\n      <th>0</th>\n      <th>1</th>\n      <th>2</th>\n    </tr>\n  </thead>\n  <tbody>\n    <tr>\n      <th>0</th>\n      <td>0.004861</td>\n      <td>0.025694</td>\n      <td>0.004861</td>\n    </tr>\n    <tr>\n      <th>1</th>\n      <td>0.254861</td>\n      <td>0.041667</td>\n      <td>0.000000</td>\n    </tr>\n    <tr>\n      <th>2</th>\n      <td>0.379861</td>\n      <td>0.083333</td>\n      <td>0.000000</td>\n    </tr>\n    <tr>\n      <th>3</th>\n      <td>0.504861</td>\n      <td>0.010417</td>\n      <td>0.010417</td>\n    </tr>\n    <tr>\n      <th>4</th>\n      <td>0.671528</td>\n      <td>0.041667</td>\n      <td>0.000000</td>\n    </tr>\n    <tr>\n      <th>5</th>\n      <td>0.005556</td>\n      <td>0.083333</td>\n      <td>0.000000</td>\n    </tr>\n    <tr>\n      <th>6</th>\n      <td>0.002083</td>\n      <td>0.166667</td>\n      <td>0.000000</td>\n    </tr>\n    <tr>\n      <th>7</th>\n      <td>0.168750</td>\n      <td>0.020833</td>\n      <td>0.000000</td>\n    </tr>\n    <tr>\n      <th>8</th>\n      <td>0.377083</td>\n      <td>0.041667</td>\n      <td>0.000000</td>\n    </tr>\n    <tr>\n      <th>9</th>\n      <td>0.585417</td>\n      <td>0.347222</td>\n      <td>0.000000</td>\n    </tr>\n  </tbody>\n</table>\n</div>"
     },
     "execution_count": 7,
     "metadata": {},
     "output_type": "execute_result"
    }
   ],
   "source": [
    "output_data = np.abs(np.array(output_data, dtype=np.float64))\n",
    "pd.DataFrame(output_data)"
   ],
   "metadata": {
    "collapsed": false,
    "ExecuteTime": {
     "start_time": "2023-07-11T07:36:18.129252Z",
     "end_time": "2023-07-11T07:36:18.357686Z"
    }
   }
  },
  {
   "cell_type": "markdown",
   "source": [
    "## Init the model"
   ],
   "metadata": {
    "collapsed": false
   }
  },
  {
   "cell_type": "code",
   "execution_count": 8,
   "outputs": [],
   "source": [
    "in_features = 14\n",
    "out_features = 3\n",
    "batch_size = 1\n",
    "n_layers = 1\n",
    "hidden_size = 124\n",
    "hidden_injector = 64\n",
    "\n",
    "free_time_slots = [[0, 1]]\n",
    "\n",
    "# Create the model\n",
    "SC_LSTM = Model(in_features, n_layers, hidden_size, out_features, batch_size, hidden_injector=hidden_injector).to(device)\n",
    "\n",
    "# Load the weights\n",
    "SC_LSTM.load_state_dict(torch.load('sc_lstm_weights.pth'))\n",
    "pass"
   ],
   "metadata": {
    "collapsed": false,
    "ExecuteTime": {
     "start_time": "2023-07-11T07:36:18.186418Z",
     "end_time": "2023-07-11T07:36:18.370284Z"
    }
   }
  },
  {
   "cell_type": "code",
   "execution_count": 9,
   "outputs": [],
   "source": [
    "input_data = np.array(input_data, dtype=np.float32)\n",
    "output_data = np.array(output_data, dtype=np.float32)"
   ],
   "metadata": {
    "collapsed": false,
    "ExecuteTime": {
     "start_time": "2023-07-11T07:36:18.363070Z",
     "end_time": "2023-07-11T07:36:18.445655Z"
    }
   }
  },
  {
   "cell_type": "code",
   "execution_count": 10,
   "outputs": [
    {
     "name": "stdout",
     "output_type": "stream",
     "text": [
      "1) Predicted: tensor([0.0037, 0.0207, 0.0100])\n",
      " Real: tensor([0.0049, 0.0257, 0.0049])\n",
      " Error: tensor([0.0012, 0.0050, 0.0051])\n",
      "\n",
      "2) Predicted: tensor([0.2671, 0.0449, 0.0013])\n",
      " Real: tensor([0.2549, 0.0417, 0.0000])\n",
      " Error: tensor([0.0123, 0.0032, 0.0013])\n",
      "\n",
      "3) Predicted: tensor([0.3833, 0.0882, 0.0010])\n",
      " Real: tensor([0.3799, 0.0833, 0.0000])\n",
      " Error: tensor([0.0034, 0.0049, 0.0010])\n",
      "\n",
      "4) Predicted: tensor([0.5076, 0.0217, 0.0010])\n",
      " Real: tensor([0.5049, 0.0104, 0.0104])\n",
      " Error: tensor([0.0027, 0.0113, 0.0094])\n",
      "\n",
      "5) Predicted: tensor([0.6768, 0.0428, 0.0009])\n",
      " Real: tensor([0.6715, 0.0417, 0.0000])\n",
      " Error: tensor([0.0053, 0.0011, 0.0009])\n",
      "\n",
      "6) Predicted: tensor([0.0061, 0.0858, 0.0011])\n",
      " Real: tensor([0.0056, 0.0833, 0.0000])\n",
      " Error: tensor([0.0005, 0.0024, 0.0011])\n",
      "\n",
      "7) Predicted: tensor([0.0045, 0.1521, 0.0012])\n",
      " Real: tensor([0.0021, 0.1667, 0.0000])\n",
      " Error: tensor([0.0025, 0.0146, 0.0012])\n",
      "\n",
      "8) Predicted: tensor([0.2026, 0.0213, 0.0011])\n",
      " Real: tensor([0.1688, 0.0208, 0.0000])\n",
      " Error: tensor([0.0338, 0.0005, 0.0011])\n",
      "\n",
      "9) Predicted: tensor([0.3741, 0.0426, 0.0008])\n",
      " Real: tensor([0.3771, 0.0417, 0.0000])\n",
      " Error: tensor([0.0030, 0.0010, 0.0008])\n",
      "\n",
      "10) Predicted: tensor([0.5781, 0.1715, 0.0012])\n",
      " Real: tensor([0.5854, 0.3472, 0.0000])\n",
      " Error: tensor([0.0073, 0.1757, 0.0012])\n",
      "\n",
      "Mean error: [0.00720034 0.02197152 0.00232475]\n",
      "Min error: [0.00050153 0.00048741 0.0008385 ]\n",
      "Max error: [0.03384116 0.175721   0.00942688]\n"
     ]
    },
    {
     "name": "stderr",
     "output_type": "stream",
     "text": [
      "/tmp/ipykernel_249059/4174290759.py:8: UserWarning: Creating a tensor from a list of numpy.ndarrays is extremely slow. Please consider converting the list to a single numpy.ndarray with numpy.array() before converting to a tensor. (Triggered internally at ../torch/csrc/utils/tensor_new.cpp:245.)\n",
      "  X = torch.Tensor([input_data[i]]).type(torch.float32).to(device)\n"
     ]
    }
   ],
   "source": [
    "# Test the model on input data\n",
    "SC_LSTM.reset_states()\n",
    "SC_LSTM.eval_model()\n",
    "predictions = []\n",
    "real = []\n",
    "\n",
    "for i in range(0, len(input_data)):\n",
    "    X = torch.Tensor([input_data[i]]).type(torch.float32).to(device)\n",
    "    Y = torch.Tensor([output_data[i]]).type(torch.float32).to(device)\n",
    "\n",
    "    Y_pred = SC_LSTM.forward(X, task_type='resched', free_time_slots=free_time_slots, save_states=True)\n",
    "    predictions.append(Y_pred[0].detach().numpy())\n",
    "    real.append(Y[0].detach().numpy())\n",
    "    print(f\"{i+1}) Predicted: {Y_pred[0]}\\n Real: {Y[0]}\\n Error: {torch.abs(Y_pred[0] - Y[0])}\\n\")\n",
    "\n",
    "# Print mean, min, and max error for each column\n",
    "errors = np.abs(np.array(predictions) - np.array(real))\n",
    "print(f\"Mean error: {np.mean(errors, axis=0)}\")\n",
    "print(f\"Min error: {np.min(errors, axis=0)}\")\n",
    "print(f\"Max error: {np.max(errors, axis=0)}\")\n",
    "\n",
    "\n",
    "# Mean error: [0.03400678 0.05854695 0.00183747]\n",
    "# Min error: [0.00568134 0.01077583 0.00074498]\n",
    "# Max error: [0.07480101 0.23154303 0.00484255]"
   ],
   "metadata": {
    "collapsed": false,
    "ExecuteTime": {
     "start_time": "2023-07-11T07:36:18.403263Z",
     "end_time": "2023-07-11T07:36:18.497346Z"
    }
   }
  },
  {
   "cell_type": "code",
   "execution_count": 11,
   "outputs": [
    {
     "data": {
      "text/plain": "<Figure size 1000x500 with 1 Axes>",
      "image/png": "[encoded data removed]"
     },
     "metadata": {},
     "output_type": "display_data"
    }
   ],
   "source": [
    "# Plot the barchart of an errors\n",
    "import matplotlib.pyplot as plt\n",
    "import numpy as np\n",
    "\n",
    "labels = ['Start Time', 'Duration', 'Importance']\n",
    "mean_errors = np.mean(errors, axis=0)\n",
    "min_errors = np.min(errors, axis=0)\n",
    "max_errors = np.max(errors, axis=0)\n",
    "\n",
    "x = np.arange(len(labels))  # the label locations\n",
    "width = 0.25  # the width of the bars\n",
    "\n",
    "fig, ax = plt.subplots(figsize=(10, 5))\n",
    "rects1 = ax.bar(x - width, mean_errors, width, label='Mean error')\n",
    "rects2 = ax.bar(x, min_errors, width, label='Min error')\n",
    "rects3 = ax.bar(x + width, max_errors, width, label='Max error')\n",
    "\n",
    "# Add some text for labels, title and custom x-axis tick labels, etc.\n",
    "ax.set_ylabel('Error')\n",
    "ax.set_title('Mean, min, and max error for each column')\n",
    "ax.set_xticks(x)\n",
    "ax.set_xticklabels(labels)\n",
    "ax.legend()\n",
    "\n",
    "ax.set_ylim([0, 0.5])\n",
    "\n",
    "fig.tight_layout()\n",
    "\n",
    "plt.show()"
   ],
   "metadata": {
    "collapsed": false,
    "ExecuteTime": {
     "start_time": "2023-07-11T07:36:18.480368Z",
     "end_time": "2023-07-11T07:36:19.040004Z"
    }
   }
  }
 ],
 "metadata": {
  "kernelspec": {
   "display_name": "Python 3",
   "language": "python",
   "name": "python3"
  },
  "language_info": {
   "codemirror_mode": {
    "name": "ipython",
    "version": 2
   },
   "file_extension": ".py",
   "mimetype": "text/x-python",
   "name": "python",
   "nbconvert_exporter": "python",
   "pygments_lexer": "ipython2",
   "version": "2.7.6"
  }
 },
 "nbformat": 4,
 "nbformat_minor": 0
}
