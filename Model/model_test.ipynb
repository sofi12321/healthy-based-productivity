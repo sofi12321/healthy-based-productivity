{
 "cells": [
  {
   "cell_type": "markdown",
   "source": [
    "# This file is used to train and test the model."
   ],
   "metadata": {
    "collapsed": false
   }
  },
  {
   "cell_type": "code",
   "execution_count": 1,
   "metadata": {
    "collapsed": true,
    "ExecuteTime": {
     "start_time": "2023-07-04T05:04:33.723174Z",
     "end_time": "2023-07-04T05:04:34.698583Z"
    }
   },
   "outputs": [],
   "source": [
    "import torch\n",
    "import numpy as np\n",
    "from tqdm import tqdm\n",
    "import pandas as pd\n",
    "from sc_model import SC_LSTM as Model"
   ]
  },
  {
   "cell_type": "markdown",
   "source": [
    "# Device init"
   ],
   "metadata": {
    "collapsed": false
   }
  },
  {
   "cell_type": "code",
   "execution_count": 2,
   "outputs": [
    {
     "name": "stdout",
     "output_type": "stream",
     "text": [
      "Tue Jul  4 05:04:34 2023       \r\n",
      "+---------------------------------------------------------------------------------------+\r\n",
      "| NVIDIA-SMI 530.41.03              Driver Version: 530.41.03    CUDA Version: 12.1     |\r\n",
      "|-----------------------------------------+----------------------+----------------------+\r\n",
      "| GPU  Name                  Persistence-M| Bus-Id        Disp.A | Volatile Uncorr. ECC |\r\n",
      "| Fan  Temp  Perf            Pwr:Usage/Cap|         Memory-Usage | GPU-Util  Compute M. |\r\n",
      "|                                         |                      |               MIG M. |\r\n",
      "|=========================================+======================+======================|\r\n",
      "|   0  NVIDIA GeForce GTX 1650 Ti      Off| 00000000:01:00.0  On |                  N/A |\r\n",
      "| N/A   50C    P3               18W /  N/A|   1005MiB /  4096MiB |     21%      Default |\r\n",
      "|                                         |                      |                  N/A |\r\n",
      "+-----------------------------------------+----------------------+----------------------+\r\n",
      "                                                                                         \r\n",
      "+---------------------------------------------------------------------------------------+\r\n",
      "| Processes:                                                                            |\r\n",
      "|  GPU   GI   CI        PID   Type   Process name                            GPU Memory |\r\n",
      "|        ID   ID                                                             Usage      |\r\n",
      "|=======================================================================================|\r\n",
      "|    0   N/A  N/A       582      G   /usr/lib/Xorg                               446MiB |\r\n",
      "|    0   N/A  N/A       718      G   /usr/bin/kwalletd5                            1MiB |\r\n",
      "|    0   N/A  N/A       808      G   /usr/bin/ksmserver                            1MiB |\r\n",
      "|    0   N/A  N/A       810      G   /usr/bin/kded5                                1MiB |\r\n",
      "|    0   N/A  N/A       811      G   /usr/bin/kwin_x11                           151MiB |\r\n",
      "|    0   N/A  N/A       847      G   /usr/bin/plasmashell                         92MiB |\r\n",
      "|    0   N/A  N/A       882      G   ...b/polkit-kde-authentication-agent-1       15MiB |\r\n",
      "|    0   N/A  N/A       885      G   /usr/lib/xdg-desktop-portal-kde               1MiB |\r\n",
      "|    0   N/A  N/A      1030      G   /usr/lib/kdeconnectd                          1MiB |\r\n",
      "|    0   N/A  N/A      1033      G   /usr/bin/latte-dock                          18MiB |\r\n",
      "|    0   N/A  N/A      1036      G   /usr/bin/telegram-desktop                     2MiB |\r\n",
      "|    0   N/A  N/A      1044      G   /usr/bin/kaccess                              1MiB |\r\n",
      "|    0   N/A  N/A      1052      G   /usr/lib/DiscoverNotifier                     1MiB |\r\n",
      "|    0   N/A  N/A      1053      G   /usr/bin/kalendarac                           1MiB |\r\n",
      "|    0   N/A  N/A      1056      G   /usr/bin/kmix                                 1MiB |\r\n",
      "|    0   N/A  N/A      1266      G   /usr/bin/ktorrent                             1MiB |\r\n",
      "|    0   N/A  N/A      1299      G   /usr/bin/yakuake                              1MiB |\r\n",
      "|    0   N/A  N/A      2312      G   ...bin/plasma-browser-integration-host        1MiB |\r\n",
      "|    0   N/A  N/A      5978      G   ...74492659,3369048909803640631,131072       85MiB |\r\n",
      "|    0   N/A  N/A      6192      G   ...,WinRetrieveSuggestionsOnlyOnDemand      136MiB |\r\n",
      "|    0   N/A  N/A     36342      G   /usr/bin/konsole                              1MiB |\r\n",
      "+---------------------------------------------------------------------------------------+\r\n",
      "NVIDIA GeForce GTX 1650 Ti\n"
     ]
    }
   ],
   "source": [
    "device = torch.device('cuda' if torch.cuda.is_available() else 'cpu')\n",
    "if device.type == 'cuda':\n",
    "    !nvidia-smi\n",
    "    print(torch.cuda.get_device_name(0))\n",
    "\n",
    "else:\n",
    "    print(\"No GPU :(\")"
   ],
   "metadata": {
    "collapsed": false,
    "ExecuteTime": {
     "start_time": "2023-07-04T05:04:34.738996Z",
     "end_time": "2023-07-04T05:04:34.948607Z"
    }
   }
  },
  {
   "cell_type": "code",
   "execution_count": 3,
   "outputs": [],
   "source": [
    "device = 'cpu'"
   ],
   "metadata": {
    "collapsed": false,
    "ExecuteTime": {
     "start_time": "2023-07-04T05:04:34.955098Z",
     "end_time": "2023-07-04T05:04:34.957116Z"
    }
   }
  },
  {
   "cell_type": "markdown",
   "source": [
    "## Loading the data"
   ],
   "metadata": {
    "collapsed": false
   }
  },
  {
   "cell_type": "code",
   "execution_count": 4,
   "outputs": [
    {
     "data": {
      "text/plain": "     Label Number  Duration  Importance Start Time        Date\n0               3        75           1       6:30  22/06/2023\n1               5        90           2       8:15  22/06/2023\n2               0        30           0      10:00  22/06/2023\n3               1        30           1      10:45  22/06/2023\n4               6        15           0      11:30  22/06/2023\n..            ...       ...         ...        ...         ...\n967             4        90           2      18:15  01/09/2023\n968             1        30           1      19:30  01/09/2023\n969             6        45           0      20:45  01/09/2023\n970             3        45           1      22:00  01/09/2023\n971             5       120           3      23:15  01/09/2023\n\n[972 rows x 5 columns]",
      "text/html": "<div>\n<style scoped>\n    .dataframe tbody tr th:only-of-type {\n        vertical-align: middle;\n    }\n\n    .dataframe tbody tr th {\n        vertical-align: top;\n    }\n\n    .dataframe thead th {\n        text-align: right;\n    }\n</style>\n<table border=\"1\" class=\"dataframe\">\n  <thead>\n    <tr style=\"text-align: right;\">\n      <th></th>\n      <th>Label Number</th>\n      <th>Duration</th>\n      <th>Importance</th>\n      <th>Start Time</th>\n      <th>Date</th>\n    </tr>\n  </thead>\n  <tbody>\n    <tr>\n      <th>0</th>\n      <td>3</td>\n      <td>75</td>\n      <td>1</td>\n      <td>6:30</td>\n      <td>22/06/2023</td>\n    </tr>\n    <tr>\n      <th>1</th>\n      <td>5</td>\n      <td>90</td>\n      <td>2</td>\n      <td>8:15</td>\n      <td>22/06/2023</td>\n    </tr>\n    <tr>\n      <th>2</th>\n      <td>0</td>\n      <td>30</td>\n      <td>0</td>\n      <td>10:00</td>\n      <td>22/06/2023</td>\n    </tr>\n    <tr>\n      <th>3</th>\n      <td>1</td>\n      <td>30</td>\n      <td>1</td>\n      <td>10:45</td>\n      <td>22/06/2023</td>\n    </tr>\n    <tr>\n      <th>4</th>\n      <td>6</td>\n      <td>15</td>\n      <td>0</td>\n      <td>11:30</td>\n      <td>22/06/2023</td>\n    </tr>\n    <tr>\n      <th>...</th>\n      <td>...</td>\n      <td>...</td>\n      <td>...</td>\n      <td>...</td>\n      <td>...</td>\n    </tr>\n    <tr>\n      <th>967</th>\n      <td>4</td>\n      <td>90</td>\n      <td>2</td>\n      <td>18:15</td>\n      <td>01/09/2023</td>\n    </tr>\n    <tr>\n      <th>968</th>\n      <td>1</td>\n      <td>30</td>\n      <td>1</td>\n      <td>19:30</td>\n      <td>01/09/2023</td>\n    </tr>\n    <tr>\n      <th>969</th>\n      <td>6</td>\n      <td>45</td>\n      <td>0</td>\n      <td>20:45</td>\n      <td>01/09/2023</td>\n    </tr>\n    <tr>\n      <th>970</th>\n      <td>3</td>\n      <td>45</td>\n      <td>1</td>\n      <td>22:00</td>\n      <td>01/09/2023</td>\n    </tr>\n    <tr>\n      <th>971</th>\n      <td>5</td>\n      <td>120</td>\n      <td>3</td>\n      <td>23:15</td>\n      <td>01/09/2023</td>\n    </tr>\n  </tbody>\n</table>\n<p>972 rows × 5 columns</p>\n</div>"
     },
     "execution_count": 4,
     "metadata": {},
     "output_type": "execute_result"
    }
   ],
   "source": [
    "from Data.Preprocessor import Preprocessor\n",
    "\n",
    "preproc = Preprocessor()\n",
    "\n",
    "data = pd.read_csv('../Data/schedule_v3.csv')\n",
    "data"
   ],
   "metadata": {
    "collapsed": false,
    "ExecuteTime": {
     "start_time": "2023-07-04T05:04:34.962114Z",
     "end_time": "2023-07-04T05:04:35.348275Z"
    }
   }
  },
  {
   "cell_type": "code",
   "execution_count": 5,
   "outputs": [],
   "source": [
    "input_data, type_vector, output_vector = preproc.preprocess(data)"
   ],
   "metadata": {
    "collapsed": false,
    "ExecuteTime": {
     "start_time": "2023-07-04T05:04:35.354631Z",
     "end_time": "2023-07-04T05:04:35.456715Z"
    }
   }
  },
  {
   "cell_type": "code",
   "execution_count": 6,
   "outputs": [
    {
     "data": {
      "text/plain": "     Label Number  Duration  Importance  Date  Time_Min  Time_Min_sin  \\\n0               3  0.571429           1   173  0.265957      0.988948   \n1               5  0.714286           2   173  0.340426      0.818625   \n2               0  0.142857           0   173  0.414894      0.475947   \n3               1  0.142857           1   173  0.446809      0.293250   \n4               6  0.000000           0   173  0.478723      0.099046   \n..            ...       ...         ...   ...       ...           ...   \n967             4  0.714286           2   244  0.765957     -0.993309   \n968             1  0.142857           1   244  0.819149     -0.901991   \n969             6  0.285714           0   244  0.872340     -0.712928   \n970             3  0.285714           1   244  0.925532     -0.446609   \n971             5  1.000000           3   244  0.978723     -0.131892   \n\n     Time_Min_cos  Date_Day_sin  Date_Day_cos  Date_Month_sin  Date_Month_cos  \n0       -0.148264     -0.968077     -0.250653   -8.660254e-01            -0.5  \n1       -0.574329     -0.968077     -0.250653   -8.660254e-01            -0.5  \n2       -0.879474     -0.968077     -0.250653   -8.660254e-01            -0.5  \n3       -0.956036     -0.968077     -0.250653   -8.660254e-01            -0.5  \n4       -0.995083     -0.968077     -0.250653   -8.660254e-01            -0.5  \n..            ...           ...           ...             ...             ...  \n967      0.115485      0.201299      0.979530   -2.449294e-16             1.0  \n968      0.431754      0.201299      0.979530   -2.449294e-16             1.0  \n969      0.701237      0.201299      0.979530   -2.449294e-16             1.0  \n970      0.894729      0.201299      0.979530   -2.449294e-16             1.0  \n971      0.991264      0.201299      0.979530   -2.449294e-16             1.0  \n\n[972 rows x 11 columns]",
      "text/html": "<div>\n<style scoped>\n    .dataframe tbody tr th:only-of-type {\n        vertical-align: middle;\n    }\n\n    .dataframe tbody tr th {\n        vertical-align: top;\n    }\n\n    .dataframe thead th {\n        text-align: right;\n    }\n</style>\n<table border=\"1\" class=\"dataframe\">\n  <thead>\n    <tr style=\"text-align: right;\">\n      <th></th>\n      <th>Label Number</th>\n      <th>Duration</th>\n      <th>Importance</th>\n      <th>Date</th>\n      <th>Time_Min</th>\n      <th>Time_Min_sin</th>\n      <th>Time_Min_cos</th>\n      <th>Date_Day_sin</th>\n      <th>Date_Day_cos</th>\n      <th>Date_Month_sin</th>\n      <th>Date_Month_cos</th>\n    </tr>\n  </thead>\n  <tbody>\n    <tr>\n      <th>0</th>\n      <td>3</td>\n      <td>0.571429</td>\n      <td>1</td>\n      <td>173</td>\n      <td>0.265957</td>\n      <td>0.988948</td>\n      <td>-0.148264</td>\n      <td>-0.968077</td>\n      <td>-0.250653</td>\n      <td>-8.660254e-01</td>\n      <td>-0.5</td>\n    </tr>\n    <tr>\n      <th>1</th>\n      <td>5</td>\n      <td>0.714286</td>\n      <td>2</td>\n      <td>173</td>\n      <td>0.340426</td>\n      <td>0.818625</td>\n      <td>-0.574329</td>\n      <td>-0.968077</td>\n      <td>-0.250653</td>\n      <td>-8.660254e-01</td>\n      <td>-0.5</td>\n    </tr>\n    <tr>\n      <th>2</th>\n      <td>0</td>\n      <td>0.142857</td>\n      <td>0</td>\n      <td>173</td>\n      <td>0.414894</td>\n      <td>0.475947</td>\n      <td>-0.879474</td>\n      <td>-0.968077</td>\n      <td>-0.250653</td>\n      <td>-8.660254e-01</td>\n      <td>-0.5</td>\n    </tr>\n    <tr>\n      <th>3</th>\n      <td>1</td>\n      <td>0.142857</td>\n      <td>1</td>\n      <td>173</td>\n      <td>0.446809</td>\n      <td>0.293250</td>\n      <td>-0.956036</td>\n      <td>-0.968077</td>\n      <td>-0.250653</td>\n      <td>-8.660254e-01</td>\n      <td>-0.5</td>\n    </tr>\n    <tr>\n      <th>4</th>\n      <td>6</td>\n      <td>0.000000</td>\n      <td>0</td>\n      <td>173</td>\n      <td>0.478723</td>\n      <td>0.099046</td>\n      <td>-0.995083</td>\n      <td>-0.968077</td>\n      <td>-0.250653</td>\n      <td>-8.660254e-01</td>\n      <td>-0.5</td>\n    </tr>\n    <tr>\n      <th>...</th>\n      <td>...</td>\n      <td>...</td>\n      <td>...</td>\n      <td>...</td>\n      <td>...</td>\n      <td>...</td>\n      <td>...</td>\n      <td>...</td>\n      <td>...</td>\n      <td>...</td>\n      <td>...</td>\n    </tr>\n    <tr>\n      <th>967</th>\n      <td>4</td>\n      <td>0.714286</td>\n      <td>2</td>\n      <td>244</td>\n      <td>0.765957</td>\n      <td>-0.993309</td>\n      <td>0.115485</td>\n      <td>0.201299</td>\n      <td>0.979530</td>\n      <td>-2.449294e-16</td>\n      <td>1.0</td>\n    </tr>\n    <tr>\n      <th>968</th>\n      <td>1</td>\n      <td>0.142857</td>\n      <td>1</td>\n      <td>244</td>\n      <td>0.819149</td>\n      <td>-0.901991</td>\n      <td>0.431754</td>\n      <td>0.201299</td>\n      <td>0.979530</td>\n      <td>-2.449294e-16</td>\n      <td>1.0</td>\n    </tr>\n    <tr>\n      <th>969</th>\n      <td>6</td>\n      <td>0.285714</td>\n      <td>0</td>\n      <td>244</td>\n      <td>0.872340</td>\n      <td>-0.712928</td>\n      <td>0.701237</td>\n      <td>0.201299</td>\n      <td>0.979530</td>\n      <td>-2.449294e-16</td>\n      <td>1.0</td>\n    </tr>\n    <tr>\n      <th>970</th>\n      <td>3</td>\n      <td>0.285714</td>\n      <td>1</td>\n      <td>244</td>\n      <td>0.925532</td>\n      <td>-0.446609</td>\n      <td>0.894729</td>\n      <td>0.201299</td>\n      <td>0.979530</td>\n      <td>-2.449294e-16</td>\n      <td>1.0</td>\n    </tr>\n    <tr>\n      <th>971</th>\n      <td>5</td>\n      <td>1.000000</td>\n      <td>3</td>\n      <td>244</td>\n      <td>0.978723</td>\n      <td>-0.131892</td>\n      <td>0.991264</td>\n      <td>0.201299</td>\n      <td>0.979530</td>\n      <td>-2.449294e-16</td>\n      <td>1.0</td>\n    </tr>\n  </tbody>\n</table>\n<p>972 rows × 11 columns</p>\n</div>"
     },
     "execution_count": 6,
     "metadata": {},
     "output_type": "execute_result"
    }
   ],
   "source": [
    "input_data"
   ],
   "metadata": {
    "collapsed": false,
    "ExecuteTime": {
     "start_time": "2023-07-04T05:04:35.430028Z",
     "end_time": "2023-07-04T05:04:35.484470Z"
    }
   }
  },
  {
   "cell_type": "code",
   "execution_count": 7,
   "outputs": [
    {
     "data": {
      "text/plain": "array(['resched', 'resched', 'non-resched', 'resched', 'resched',\n       'resched', 'non-resched', 'resched', 'resched', 'resched',\n       'resched', 'resched', 'resched', 'non-resched', 'non-resched',\n       'resched', 'resched', 'non-resched', 'resched', 'resched',\n       'resched', 'resched', 'non-resched', 'resched', 'resched',\n       'resched', 'resched', 'resched', 'resched', 'resched',\n       'non-resched', 'resched', 'resched', 'non-resched', 'resched',\n       'non-resched', 'non-resched', 'resched', 'non-resched',\n       'non-resched', 'resched', 'resched', 'resched', 'resched',\n       'resched', 'non-resched', 'non-resched', 'resched', 'resched',\n       'resched', 'non-resched', 'non-resched', 'resched', 'non-resched',\n       'non-resched', 'resched', 'resched', 'resched', 'non-resched',\n       'resched', 'resched', 'resched', 'non-resched', 'non-resched',\n       'resched', 'resched', 'resched', 'resched', 'non-resched',\n       'resched', 'resched', 'resched', 'resched', 'non-resched',\n       'resched', 'resched', 'non-resched', 'resched', 'resched',\n       'non-resched', 'resched', 'resched', 'resched', 'resched',\n       'resched', 'resched', 'non-resched', 'resched', 'resched',\n       'resched', 'resched', 'non-resched', 'resched', 'resched',\n       'resched', 'resched', 'resched', 'resched', 'resched',\n       'non-resched', 'resched', 'non-resched', 'resched', 'non-resched',\n       'non-resched', 'non-resched', 'resched', 'non-resched', 'resched',\n       'resched', 'resched', 'resched', 'non-resched', 'resched',\n       'non-resched', 'resched', 'resched', 'resched', 'resched',\n       'resched', 'non-resched', 'non-resched', 'resched', 'resched',\n       'resched', 'resched', 'resched', 'non-resched', 'resched',\n       'resched', 'resched', 'resched', 'resched', 'non-resched',\n       'resched', 'resched', 'resched', 'resched', 'non-resched',\n       'non-resched', 'resched', 'resched', 'non-resched', 'resched',\n       'resched', 'resched', 'resched', 'resched', 'resched', 'resched',\n       'resched', 'resched', 'resched', 'resched', 'non-resched',\n       'resched', 'non-resched', 'resched', 'resched', 'resched',\n       'resched', 'non-resched', 'resched', 'resched', 'resched',\n       'resched', 'non-resched', 'resched', 'resched', 'resched',\n       'resched', 'resched', 'resched', 'resched', 'resched',\n       'non-resched', 'non-resched', 'resched', 'non-resched', 'resched',\n       'resched', 'resched', 'resched', 'resched', 'resched',\n       'non-resched', 'non-resched', 'resched', 'non-resched',\n       'non-resched', 'resched', 'resched', 'resched', 'resched',\n       'resched', 'resched', 'non-resched', 'non-resched', 'resched',\n       'resched', 'resched', 'non-resched', 'non-resched', 'resched',\n       'resched', 'non-resched', 'resched', 'resched', 'resched',\n       'resched', 'resched', 'resched', 'resched', 'resched', 'resched',\n       'resched', 'resched', 'non-resched', 'resched', 'non-resched',\n       'resched', 'non-resched', 'non-resched', 'resched', 'non-resched',\n       'non-resched', 'resched', 'resched', 'resched', 'resched',\n       'resched', 'resched', 'resched', 'resched', 'resched', 'resched',\n       'resched', 'non-resched', 'resched', 'resched', 'resched',\n       'resched', 'resched', 'resched', 'resched', 'resched', 'resched',\n       'resched', 'non-resched', 'resched', 'resched', 'non-resched',\n       'non-resched', 'resched', 'non-resched', 'resched', 'resched',\n       'resched', 'resched', 'resched', 'resched', 'resched', 'resched',\n       'resched', 'resched', 'resched', 'resched', 'non-resched',\n       'resched', 'resched', 'resched', 'resched', 'non-resched',\n       'resched', 'resched', 'resched', 'resched', 'non-resched',\n       'resched', 'non-resched', 'resched', 'non-resched', 'resched',\n       'non-resched', 'resched', 'resched', 'non-resched', 'non-resched',\n       'resched', 'non-resched', 'resched', 'resched', 'resched',\n       'resched', 'resched', 'resched', 'resched', 'resched', 'resched',\n       'resched', 'resched', 'resched', 'resched', 'resched',\n       'non-resched', 'resched', 'resched', 'resched', 'resched',\n       'resched', 'resched', 'non-resched', 'non-resched', 'resched',\n       'resched', 'resched', 'resched', 'resched', 'resched', 'resched',\n       'resched', 'resched', 'resched', 'resched', 'non-resched',\n       'resched', 'non-resched', 'resched', 'resched', 'resched',\n       'resched', 'resched', 'resched', 'resched', 'resched', 'resched',\n       'resched', 'resched', 'resched', 'resched', 'resched', 'resched',\n       'resched', 'non-resched', 'resched', 'resched', 'resched',\n       'non-resched', 'resched', 'resched', 'resched', 'resched',\n       'resched', 'resched', 'resched', 'resched', 'non-resched',\n       'resched', 'resched', 'non-resched', 'non-resched', 'resched',\n       'resched', 'non-resched', 'resched', 'resched', 'resched',\n       'resched', 'resched', 'resched', 'resched', 'resched',\n       'non-resched', 'resched', 'non-resched', 'resched', 'resched',\n       'resched', 'resched', 'resched', 'resched', 'non-resched',\n       'resched', 'resched', 'non-resched', 'resched', 'resched',\n       'resched', 'non-resched', 'resched', 'resched', 'non-resched',\n       'resched', 'resched', 'resched', 'resched', 'resched', 'resched',\n       'non-resched', 'resched', 'resched', 'resched', 'resched',\n       'resched', 'resched', 'resched', 'resched', 'non-resched',\n       'resched', 'resched', 'resched', 'resched', 'resched', 'resched',\n       'non-resched', 'resched', 'non-resched', 'resched', 'resched',\n       'resched', 'resched', 'resched', 'resched', 'non-resched',\n       'resched', 'resched', 'resched', 'resched', 'resched', 'resched',\n       'resched', 'resched', 'resched', 'resched', 'non-resched',\n       'resched', 'resched', 'resched', 'resched', 'resched', 'resched',\n       'non-resched', 'resched', 'resched', 'resched', 'resched',\n       'resched', 'resched', 'non-resched', 'resched', 'resched',\n       'resched', 'resched', 'non-resched', 'resched', 'resched',\n       'resched', 'resched', 'non-resched', 'resched', 'resched',\n       'resched', 'resched', 'non-resched', 'resched', 'non-resched',\n       'resched', 'resched', 'resched', 'resched', 'resched', 'resched',\n       'resched', 'resched', 'resched', 'resched', 'non-resched',\n       'resched', 'non-resched', 'resched', 'resched', 'resched',\n       'resched', 'resched', 'resched', 'non-resched', 'resched',\n       'resched', 'resched', 'resched', 'non-resched', 'resched',\n       'non-resched', 'resched', 'resched', 'resched', 'resched',\n       'non-resched', 'non-resched', 'resched', 'resched', 'resched',\n       'resched', 'resched', 'resched', 'resched', 'resched', 'resched',\n       'resched', 'resched', 'resched', 'resched', 'resched', 'resched',\n       'non-resched', 'resched', 'resched', 'resched', 'resched',\n       'resched', 'non-resched', 'resched', 'resched', 'resched',\n       'non-resched', 'resched', 'resched', 'resched', 'resched',\n       'resched', 'resched', 'resched', 'resched', 'resched', 'resched',\n       'resched', 'resched', 'resched', 'non-resched', 'resched',\n       'resched', 'resched', 'resched', 'resched', 'resched', 'resched',\n       'resched', 'resched', 'resched', 'resched', 'resched', 'resched',\n       'resched', 'resched', 'resched', 'resched', 'non-resched',\n       'non-resched', 'resched', 'non-resched', 'non-resched', 'resched',\n       'resched', 'resched', 'resched', 'non-resched', 'resched',\n       'resched', 'resched', 'resched', 'resched', 'resched', 'resched',\n       'non-resched', 'non-resched', 'resched', 'resched', 'resched',\n       'resched', 'resched', 'resched', 'resched', 'resched', 'resched',\n       'resched', 'resched', 'resched', 'non-resched', 'resched',\n       'non-resched', 'resched', 'resched', 'resched', 'resched',\n       'resched', 'resched', 'resched', 'resched', 'resched', 'resched',\n       'resched', 'resched', 'resched', 'resched', 'resched', 'resched',\n       'non-resched', 'non-resched', 'resched', 'non-resched', 'resched',\n       'resched', 'resched', 'resched', 'resched', 'resched',\n       'non-resched', 'resched', 'non-resched', 'resched', 'resched',\n       'resched', 'resched', 'resched', 'resched', 'resched', 'resched',\n       'non-resched', 'resched', 'non-resched', 'resched', 'resched',\n       'non-resched', 'resched', 'resched', 'resched', 'non-resched',\n       'non-resched', 'resched', 'non-resched', 'resched', 'resched',\n       'resched', 'resched', 'resched', 'resched', 'resched', 'resched',\n       'resched', 'resched', 'resched', 'resched', 'non-resched',\n       'resched', 'resched', 'resched', 'non-resched', 'resched',\n       'resched', 'resched', 'resched', 'non-resched', 'resched',\n       'resched', 'resched', 'resched', 'resched', 'resched', 'resched',\n       'resched', 'resched', 'non-resched', 'resched', 'non-resched',\n       'non-resched', 'resched', 'resched', 'resched', 'resched',\n       'resched', 'resched', 'resched', 'resched', 'resched',\n       'non-resched', 'resched', 'resched', 'non-resched', 'resched',\n       'resched', 'non-resched', 'resched', 'non-resched', 'non-resched',\n       'resched', 'resched', 'resched', 'resched', 'resched', 'resched',\n       'resched', 'resched', 'non-resched', 'resched', 'resched',\n       'resched', 'resched', 'resched', 'resched', 'resched', 'resched',\n       'resched', 'resched', 'resched', 'resched', 'resched', 'resched',\n       'non-resched', 'resched', 'resched', 'resched', 'resched',\n       'resched', 'resched', 'non-resched', 'resched', 'resched',\n       'resched', 'non-resched', 'resched', 'resched', 'resched',\n       'resched', 'resched', 'resched', 'resched', 'resched',\n       'non-resched', 'resched', 'resched', 'non-resched', 'resched',\n       'resched', 'resched', 'resched', 'resched', 'resched', 'resched',\n       'resched', 'resched', 'resched', 'resched', 'resched', 'resched',\n       'resched', 'resched', 'resched', 'resched', 'resched', 'resched',\n       'non-resched', 'resched', 'non-resched', 'resched', 'resched',\n       'resched', 'resched', 'resched', 'non-resched', 'resched',\n       'resched', 'resched', 'resched', 'resched', 'resched', 'resched',\n       'resched', 'resched', 'resched', 'resched', 'resched', 'resched',\n       'resched', 'resched', 'resched', 'resched', 'resched', 'resched',\n       'resched', 'resched', 'resched', 'resched', 'non-resched',\n       'resched', 'resched', 'resched', 'resched', 'resched', 'resched',\n       'non-resched', 'resched', 'resched', 'resched', 'resched',\n       'resched', 'non-resched', 'resched', 'resched', 'resched',\n       'resched', 'non-resched', 'non-resched', 'non-resched', 'resched',\n       'resched', 'resched', 'resched', 'resched', 'non-resched',\n       'non-resched', 'resched', 'resched', 'resched', 'non-resched',\n       'resched', 'non-resched', 'resched', 'non-resched', 'resched',\n       'resched', 'resched', 'resched', 'non-resched', 'resched',\n       'resched', 'resched', 'resched', 'resched', 'resched', 'resched',\n       'resched', 'resched', 'resched', 'resched', 'resched',\n       'non-resched', 'resched', 'resched', 'non-resched', 'resched',\n       'non-resched', 'non-resched', 'resched', 'resched', 'resched',\n       'resched', 'resched', 'resched', 'resched', 'resched', 'resched',\n       'resched', 'resched', 'non-resched', 'non-resched', 'resched',\n       'resched', 'non-resched', 'resched', 'resched', 'resched',\n       'non-resched', 'resched', 'resched', 'resched', 'resched',\n       'resched', 'resched', 'resched', 'resched', 'resched', 'resched',\n       'resched', 'resched', 'non-resched', 'resched', 'resched',\n       'resched', 'resched', 'resched', 'resched', 'non-resched',\n       'non-resched', 'resched', 'resched', 'non-resched', 'non-resched',\n       'resched', 'resched', 'non-resched', 'resched', 'resched',\n       'resched', 'resched', 'resched', 'resched', 'resched', 'resched',\n       'non-resched', 'resched', 'resched', 'resched', 'resched',\n       'resched', 'resched', 'resched', 'resched', 'resched', 'resched',\n       'resched', 'resched', 'resched', 'resched', 'resched', 'resched',\n       'resched', 'resched', 'resched', 'resched', 'resched', 'resched',\n       'non-resched', 'resched', 'resched', 'resched', 'non-resched',\n       'resched', 'resched', 'resched', 'resched', 'resched', 'resched',\n       'non-resched', 'resched', 'non-resched', 'resched', 'non-resched',\n       'resched', 'non-resched', 'resched', 'non-resched', 'resched',\n       'resched', 'resched', 'resched', 'resched', 'non-resched',\n       'non-resched', 'non-resched', 'resched', 'resched', 'resched',\n       'resched', 'resched', 'resched', 'non-resched', 'resched',\n       'resched', 'resched', 'resched', 'resched', 'resched'],\n      dtype=object)"
     },
     "execution_count": 7,
     "metadata": {},
     "output_type": "execute_result"
    }
   ],
   "source": [
    "type_vector"
   ],
   "metadata": {
    "collapsed": false,
    "ExecuteTime": {
     "start_time": "2023-07-04T05:04:35.474062Z",
     "end_time": "2023-07-04T05:04:35.551395Z"
    }
   }
  },
  {
   "cell_type": "code",
   "execution_count": 8,
   "outputs": [
    {
     "data": {
      "text/plain": "    start  end refr\n0     390   75    0\n1     495   90    0\n2     600   30    0\n3     645   30    0\n4     690   15    0\n..    ...  ...  ...\n967  1095   90    0\n968  1170   30    0\n969  1245   45    0\n970  1320   60   15\n971  1395  120    0\n\n[972 rows x 3 columns]",
      "text/html": "<div>\n<style scoped>\n    .dataframe tbody tr th:only-of-type {\n        vertical-align: middle;\n    }\n\n    .dataframe tbody tr th {\n        vertical-align: top;\n    }\n\n    .dataframe thead th {\n        text-align: right;\n    }\n</style>\n<table border=\"1\" class=\"dataframe\">\n  <thead>\n    <tr style=\"text-align: right;\">\n      <th></th>\n      <th>start</th>\n      <th>end</th>\n      <th>refr</th>\n    </tr>\n  </thead>\n  <tbody>\n    <tr>\n      <th>0</th>\n      <td>390</td>\n      <td>75</td>\n      <td>0</td>\n    </tr>\n    <tr>\n      <th>1</th>\n      <td>495</td>\n      <td>90</td>\n      <td>0</td>\n    </tr>\n    <tr>\n      <th>2</th>\n      <td>600</td>\n      <td>30</td>\n      <td>0</td>\n    </tr>\n    <tr>\n      <th>3</th>\n      <td>645</td>\n      <td>30</td>\n      <td>0</td>\n    </tr>\n    <tr>\n      <th>4</th>\n      <td>690</td>\n      <td>15</td>\n      <td>0</td>\n    </tr>\n    <tr>\n      <th>...</th>\n      <td>...</td>\n      <td>...</td>\n      <td>...</td>\n    </tr>\n    <tr>\n      <th>967</th>\n      <td>1095</td>\n      <td>90</td>\n      <td>0</td>\n    </tr>\n    <tr>\n      <th>968</th>\n      <td>1170</td>\n      <td>30</td>\n      <td>0</td>\n    </tr>\n    <tr>\n      <th>969</th>\n      <td>1245</td>\n      <td>45</td>\n      <td>0</td>\n    </tr>\n    <tr>\n      <th>970</th>\n      <td>1320</td>\n      <td>60</td>\n      <td>15</td>\n    </tr>\n    <tr>\n      <th>971</th>\n      <td>1395</td>\n      <td>120</td>\n      <td>0</td>\n    </tr>\n  </tbody>\n</table>\n<p>972 rows × 3 columns</p>\n</div>"
     },
     "execution_count": 8,
     "metadata": {},
     "output_type": "execute_result"
    }
   ],
   "source": [
    "output_vector"
   ],
   "metadata": {
    "collapsed": false,
    "ExecuteTime": {
     "start_time": "2023-07-04T05:04:35.525116Z",
     "end_time": "2023-07-04T05:04:35.551576Z"
    }
   }
  },
  {
   "cell_type": "code",
   "execution_count": 9,
   "outputs": [],
   "source": [
    "from sklearn.preprocessing import MinMaxScaler\n",
    "\n",
    "# Normalize input and output data\n",
    "scaler = MinMaxScaler()\n",
    "input_data = scaler.fit_transform(input_data)\n",
    "output_vector = scaler.fit_transform(output_vector)"
   ],
   "metadata": {
    "collapsed": false,
    "ExecuteTime": {
     "start_time": "2023-07-04T05:04:35.529479Z",
     "end_time": "2023-07-04T05:04:35.571325Z"
    }
   }
  },
  {
   "cell_type": "markdown",
   "source": [
    "## Creating the dataset"
   ],
   "metadata": {
    "collapsed": false
   }
  },
  {
   "cell_type": "code",
   "execution_count": 10,
   "outputs": [],
   "source": [
    "from torch.utils.data import Dataset, DataLoader2\n",
    "\n",
    "class ScheduleDataset(Dataset):\n",
    "    def __init__(self, input_data, type_vector, output_vector, task_types='all', transform=None):\n",
    "        if task_types == 'all':\n",
    "            self.input_data = input_data\n",
    "            self.type_vector = type_vector\n",
    "            self.output_vector = output_vector\n",
    "        elif task_types == 'resched':\n",
    "            self.input_data = []\n",
    "            self.type_vector = []\n",
    "            self.output_vector = []\n",
    "            for i in range(len(input_data)):\n",
    "                if type_vector[i] == \"resched\":\n",
    "                    self.input_data.append(input_data[i])\n",
    "                    self.type_vector.append(type_vector[i])\n",
    "                    self.output_vector.append(output_vector[i])\n",
    "        elif task_types == 'non-resched':\n",
    "            self.input_data = []\n",
    "            self.type_vector = []\n",
    "            self.output_vector = []\n",
    "            for i in range(len(input_data)):\n",
    "                if type_vector[i] == \"non-resched\":\n",
    "                    self.input_data.append(input_data[i])\n",
    "                    self.type_vector.append(type_vector[i])\n",
    "                    self.output_vector.append(output_vector[i])\n",
    "        else:\n",
    "            raise ValueError(\"task_types must be 'all', 'resched', or 'non-resched'\")\n",
    "        self.transform = transform\n",
    "\n",
    "    def __len__(self):\n",
    "        return len(self.input_data)\n",
    "\n",
    "    def __getitem__(self, idx):\n",
    "        return self.input_data[idx], self.type_vector[idx], self.output_vector[idx]\n"
   ],
   "metadata": {
    "collapsed": false,
    "ExecuteTime": {
     "start_time": "2023-07-04T05:04:35.570069Z",
     "end_time": "2023-07-04T05:04:35.625601Z"
    }
   }
  },
  {
   "cell_type": "code",
   "execution_count": 11,
   "outputs": [
    {
     "name": "stdout",
     "output_type": "stream",
     "text": [
      "Resched dataset size: 776\n",
      "Non-resched dataset size: 196\n",
      "All dataset size: 972\n"
     ]
    }
   ],
   "source": [
    "resched_dataset = ScheduleDataset(input_data, type_vector, output_vector, task_types='resched')\n",
    "non_resched_dataset = ScheduleDataset(input_data, type_vector, output_vector, task_types='non-resched')\n",
    "all_dataset = ScheduleDataset(input_data, type_vector, output_vector, task_types='all')\n",
    "\n",
    "print(f\"Resched dataset size: {len(resched_dataset)}\\n\"\n",
    "      f\"Non-resched dataset size: {len(non_resched_dataset)}\\n\"\n",
    "      f\"All dataset size: {len(all_dataset)}\")"
   ],
   "metadata": {
    "collapsed": false,
    "ExecuteTime": {
     "start_time": "2023-07-04T05:04:35.611053Z",
     "end_time": "2023-07-04T05:04:35.625818Z"
    }
   }
  },
  {
   "cell_type": "markdown",
   "source": [
    "## Create dataloaders"
   ],
   "metadata": {
    "collapsed": false
   }
  },
  {
   "cell_type": "code",
   "execution_count": 12,
   "outputs": [],
   "source": [
    "batch_size = 1\n",
    "# resched_dataset_size = len(resched_dataset)\n",
    "# train_size = int(resched_dataset_size * 0.8)\n",
    "# test_size = resched_dataset_size - train_size\n",
    "#\n",
    "# train_resched_dataset, test_resched_dataset = torch.utils.data.random_split(resched_dataset, [train_size, test_size])\n",
    "\n",
    "train_resched_dataloader = DataLoader2(resched_dataset, batch_size=batch_size)\n",
    "# valid_resched_dataloader = DataLoader2(resched_dataset, batch_size=batch_size)\n",
    "\n",
    "train_non_resched_dataloader = DataLoader2(non_resched_dataset, batch_size=batch_size)"
   ],
   "metadata": {
    "collapsed": false,
    "ExecuteTime": {
     "start_time": "2023-07-04T05:04:35.617494Z",
     "end_time": "2023-07-04T05:04:35.669764Z"
    }
   }
  },
  {
   "cell_type": "markdown",
   "source": [
    "## Create free time slots generator"
   ],
   "metadata": {
    "collapsed": false
   }
  },
  {
   "cell_type": "code",
   "execution_count": 13,
   "outputs": [
    {
     "data": {
      "text/plain": "array([[0.        , 0.91437718],\n       [0.91437718, 0.95310873],\n       [0.95310873, 0.96994584],\n       [0.96994584, 0.98506816],\n       [0.98506816, 0.99220433],\n       [0.99220433, 0.99452314],\n       [0.99452314, 0.99694182],\n       [0.99694182, 0.99984784],\n       [0.99984784, 0.99997818]])"
     },
     "execution_count": 13,
     "metadata": {},
     "output_type": "execute_result"
    }
   ],
   "source": [
    "from Data.GeneratorOfAvailableTimeslots import GeneratorOfAvailableTimeslots\n",
    "\n",
    "time_slots_gen = GeneratorOfAvailableTimeslots(5)\n",
    "time_slots = time_slots_gen.generate_available_timeslots()\n",
    "\n",
    "time_slots      # TODO: why all the intervals are closed?\n",
    "single_interval = time_slots[0]\n",
    "single_interval"
   ],
   "metadata": {
    "collapsed": false,
    "ExecuteTime": {
     "start_time": "2023-07-04T05:04:35.657999Z",
     "end_time": "2023-07-04T05:04:35.700530Z"
    }
   }
  },
  {
   "cell_type": "markdown",
   "source": [
    "## Init the model"
   ],
   "metadata": {
    "collapsed": false
   }
  },
  {
   "cell_type": "code",
   "execution_count": 14,
   "outputs": [],
   "source": [
    "# check if the dataloader works and get the input and output sizes\n",
    "in_features = 0\n",
    "out_features = 0\n",
    "for i, (features, a, ans) in enumerate(train_resched_dataloader):\n",
    "    in_features = features.shape[1]\n",
    "    out_features = ans.shape[1]\n",
    "    break\n",
    "\n",
    "n_layers = 2\n",
    "hidden_size = 124\n",
    "hidden_injector = 64\n",
    "\n",
    "# Create the model\n",
    "SC_LSTM = Model(in_features, n_layers, hidden_size, out_features, batch_size, hidden_injector=hidden_injector).to(device)"
   ],
   "metadata": {
    "collapsed": false,
    "ExecuteTime": {
     "start_time": "2023-07-04T05:04:35.700013Z",
     "end_time": "2023-07-04T05:04:35.700646Z"
    }
   }
  },
  {
   "cell_type": "markdown",
   "source": [
    "# Testing the model"
   ],
   "metadata": {
    "collapsed": false
   }
  },
  {
   "cell_type": "code",
   "execution_count": 15,
   "outputs": [],
   "source": [
    "# Configure hyper-parameters\n",
    "epochs = 20\n",
    "learning_rate = 0.001\n",
    "loss_func = torch.nn.MSELoss()\n",
    "optimizer = torch.optim.Adam(SC_LSTM.parameters(), lr=learning_rate)\n",
    "\n",
    "history = []\n",
    "loss_accomulator = []\n",
    "mean_loss = None"
   ],
   "metadata": {
    "collapsed": false,
    "ExecuteTime": {
     "start_time": "2023-07-04T05:04:35.700050Z",
     "end_time": "2023-07-04T05:04:35.749047Z"
    }
   }
  },
  {
   "cell_type": "code",
   "execution_count": 16,
   "outputs": [
    {
     "name": "stderr",
     "output_type": "stream",
     "text": [
      "                                                                                              2.48it/s]]\r"
     ]
    }
   ],
   "source": [
    "# Firstly train the LSTM using only reschedulable tasks\n",
    "SC_LSTM.train()\n",
    "SC_LSTM.train_lstm()\n",
    "\n",
    "for epoch in range(0, epochs):\n",
    "    SC_LSTM.reset_states()\n",
    "    for i, (X, task_type, Y) in enumerate(tqdm(train_resched_dataloader, desc=f\"Epoch: {epoch + 1}, Mean Loss: {mean_loss}\", leave=False, colour='green')):\n",
    "\n",
    "        # Convert X and Y to the correct type\n",
    "        X = torch.Tensor(X).type(torch.float32).to(device)\n",
    "        Y = torch.Tensor(Y).type(torch.float32).to(device)\n",
    "\n",
    "        # Make prediction\n",
    "        Y_pred = SC_LSTM.forward(X, task_type=task_type, free_time_slots=single_interval, save_states=True)\n",
    "\n",
    "        # Calculate loss\n",
    "        loss = loss_func(Y_pred.view(-1, ), Y.view(-1, ))\n",
    "\n",
    "        # Backward pass\n",
    "        loss.backward()\n",
    "        optimizer.step()\n",
    "        optimizer.zero_grad()\n",
    "\n",
    "        # Append loss to list\n",
    "        loss_accomulator.append(loss.item())\n",
    "\n",
    "    mean_loss = np.mean(loss_accomulator)\n",
    "    history.append(mean_loss)\n",
    "    loss_accomulator = []"
   ],
   "metadata": {
    "collapsed": false,
    "ExecuteTime": {
     "start_time": "2023-07-04T05:04:35.742022Z",
     "end_time": "2023-07-04T05:05:19.312850Z"
    }
   }
  },
  {
   "cell_type": "code",
   "execution_count": 17,
   "outputs": [
    {
     "data": {
      "text/plain": "<Figure size 640x480 with 1 Axes>",
      "image/png": "[encoded data removed]"
     },
     "metadata": {},
     "output_type": "display_data"
    }
   ],
   "source": [
    "import matplotlib.pyplot as plt\n",
    "# Plot the loss history\n",
    "plt.plot(history)\n",
    "plt.xlabel(\"Epoch\")\n",
    "plt.ylabel(\"Loss\")\n",
    "plt.title(\"Loss history\")\n",
    "plt.show()"
   ],
   "metadata": {
    "collapsed": false,
    "ExecuteTime": {
     "start_time": "2023-07-04T05:05:19.353070Z",
     "end_time": "2023-07-04T05:05:20.303727Z"
    }
   }
  },
  {
   "cell_type": "code",
   "execution_count": 18,
   "outputs": [],
   "source": [
    "# Configure hyper-parameters\n",
    "epochs = 20\n",
    "learning_rate = 0.001\n",
    "loss_func = torch.nn.MSELoss()\n",
    "optimizer = torch.optim.Adam(SC_LSTM.parameters(), lr=learning_rate)\n",
    "\n",
    "history = []\n",
    "loss_accomulator = []"
   ],
   "metadata": {
    "collapsed": false,
    "ExecuteTime": {
     "start_time": "2023-07-04T05:05:20.306941Z",
     "end_time": "2023-07-04T05:05:20.353676Z"
    }
   }
  },
  {
   "cell_type": "code",
   "execution_count": 19,
   "outputs": [
    {
     "name": "stderr",
     "output_type": "stream",
     "text": [
      "                                                                                               6.72it/s]\r"
     ]
    }
   ],
   "source": [
    "# Now train the injector using non-reschedulable tasks\n",
    "SC_LSTM.train()\n",
    "SC_LSTM.train_injector()\n",
    "\n",
    "for epoch in range(0, epochs):\n",
    "    SC_LSTM.reset_states()\n",
    "\n",
    "    for i, (X, task_type, Y) in enumerate(tqdm(train_non_resched_dataloader, desc=f\"Epoch: {epoch + 1}, Mean Loss: {mean_loss}\", leave=False, colour='green')):\n",
    "\n",
    "        # Convert X and Y to the correct type\n",
    "        X = torch.Tensor(X).type(torch.float32).to(device)\n",
    "        Y = torch.Tensor(Y).type(torch.float32).to(device)\n",
    "\n",
    "        # Make prediction\n",
    "        Y_pred = SC_LSTM.forward(X, task_type=task_type, free_time_slots=single_interval, save_states=True)\n",
    "\n",
    "        # Calculate loss\n",
    "        loss = loss_func(Y_pred.view(-1, ), Y.view(-1, ))\n",
    "\n",
    "        # Backward pass\n",
    "        loss.backward()\n",
    "        optimizer.step()\n",
    "        optimizer.zero_grad()\n",
    "\n",
    "        # Append loss to list\n",
    "        loss_accomulator.append(loss.item())\n",
    "\n",
    "    mean_loss = np.mean(loss_accomulator)\n",
    "    history.append(mean_loss)\n",
    "    loss_accomulator = []"
   ],
   "metadata": {
    "collapsed": false,
    "ExecuteTime": {
     "start_time": "2023-07-04T05:05:20.347011Z",
     "end_time": "2023-07-04T05:05:28.939605Z"
    }
   }
  },
  {
   "cell_type": "code",
   "execution_count": 20,
   "outputs": [
    {
     "data": {
      "text/plain": "<Figure size 640x480 with 1 Axes>",
      "image/png": "[encoded data removed]"
     },
     "metadata": {},
     "output_type": "display_data"
    }
   ],
   "source": [
    "# Plot the loss history\n",
    "plt.plot(history)\n",
    "plt.xlabel(\"Epoch\")\n",
    "plt.ylabel(\"Loss\")\n",
    "plt.title(\"Loss history\")\n",
    "plt.show()"
   ],
   "metadata": {
    "collapsed": false,
    "ExecuteTime": {
     "start_time": "2023-07-04T05:05:28.953310Z",
     "end_time": "2023-07-04T05:05:29.114548Z"
    }
   }
  }
 ],
 "metadata": {
  "kernelspec": {
   "display_name": "Python 3",
   "language": "python",
   "name": "python3"
  },
  "language_info": {
   "codemirror_mode": {
    "name": "ipython",
    "version": 2
   },
   "file_extension": ".py",
   "mimetype": "text/x-python",
   "name": "python",
   "nbconvert_exporter": "python",
   "pygments_lexer": "ipython2",
   "version": "2.7.6"
  }
 },
 "nbformat": 4,
 "nbformat_minor": 0
}
