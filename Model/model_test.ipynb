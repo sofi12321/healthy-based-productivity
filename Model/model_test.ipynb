{
 "cells": [
  {
   "cell_type": "markdown",
   "source": [],
   "metadata": {
    "collapsed": false
   }
  },
  {
   "cell_type": "markdown",
   "source": [
    "# This file is used to train"
   ],
   "metadata": {
    "collapsed": false
   }
  },
  {
   "cell_type": "code",
   "execution_count": 1,
   "outputs": [],
   "source": [
    "import torch\n",
    "import numpy as np\n",
    "import pandas as pd\n",
    "from sc_model import SC_LSTM as Model\n",
    "from tg_bot.domain.domain import Task, Event\n",
    "import datetime"
   ],
   "metadata": {
    "collapsed": false,
    "ExecuteTime": {
     "start_time": "2023-07-11T05:33:52.874233Z",
     "end_time": "2023-07-11T05:33:53.990803Z"
    }
   }
  },
  {
   "cell_type": "markdown",
   "source": [
    "# Device init"
   ],
   "metadata": {
    "collapsed": false
   }
  },
  {
   "cell_type": "code",
   "execution_count": 2,
   "outputs": [
    {
     "name": "stdout",
     "output_type": "stream",
     "text": [
      "Tue Jul 11 05:33:54 2023       \r\n",
      "+---------------------------------------------------------------------------------------+\r\n",
      "| NVIDIA-SMI 530.41.03              Driver Version: 530.41.03    CUDA Version: 12.1     |\r\n",
      "|-----------------------------------------+----------------------+----------------------+\r\n",
      "| GPU  Name                  Persistence-M| Bus-Id        Disp.A | Volatile Uncorr. ECC |\r\n",
      "| Fan  Temp  Perf            Pwr:Usage/Cap|         Memory-Usage | GPU-Util  Compute M. |\r\n",
      "|                                         |                      |               MIG M. |\r\n",
      "|=========================================+======================+======================|\r\n",
      "|   0  NVIDIA GeForce GTX 1650 Ti      Off| 00000000:01:00.0  On |                  N/A |\r\n",
      "| N/A   43C    P5                9W /  N/A|    814MiB /  4096MiB |     33%      Default |\r\n",
      "|                                         |                      |                  N/A |\r\n",
      "+-----------------------------------------+----------------------+----------------------+\r\n",
      "                                                                                         \r\n",
      "+---------------------------------------------------------------------------------------+\r\n",
      "| Processes:                                                                            |\r\n",
      "|  GPU   GI   CI        PID   Type   Process name                            GPU Memory |\r\n",
      "|        ID   ID                                                             Usage      |\r\n",
      "|=======================================================================================|\r\n",
      "|    0   N/A  N/A       572      G   /usr/lib/Xorg                               383MiB |\r\n",
      "|    0   N/A  N/A       636      G   /usr/bin/kwalletd5                            1MiB |\r\n",
      "|    0   N/A  N/A       725      G   /usr/bin/ksmserver                            1MiB |\r\n",
      "|    0   N/A  N/A       727      G   /usr/bin/kded5                                1MiB |\r\n",
      "|    0   N/A  N/A       730      G   /usr/bin/kwin_x11                           132MiB |\r\n",
      "|    0   N/A  N/A       799      G   ...b/polkit-kde-authentication-agent-1       15MiB |\r\n",
      "|    0   N/A  N/A       801      G   /usr/lib/xdg-desktop-portal-kde               1MiB |\r\n",
      "|    0   N/A  N/A       955      G   /usr/lib/kdeconnectd                          1MiB |\r\n",
      "|    0   N/A  N/A       958      G   /usr/bin/latte-dock                          21MiB |\r\n",
      "|    0   N/A  N/A       966      G   /usr/bin/kaccess                              1MiB |\r\n",
      "|    0   N/A  N/A       974      G   /usr/bin/kalendarac                           1MiB |\r\n",
      "|    0   N/A  N/A       979      G   /usr/bin/kmix                                 1MiB |\r\n",
      "|    0   N/A  N/A       988      G   /usr/lib/DiscoverNotifier                     1MiB |\r\n",
      "|    0   N/A  N/A      1182      G   /usr/bin/ktorrent                             1MiB |\r\n",
      "|    0   N/A  N/A      1209      G   /usr/bin/yakuake                             15MiB |\r\n",
      "|    0   N/A  N/A      2023      G   ...bin/plasma-browser-integration-host        1MiB |\r\n",
      "|    0   N/A  N/A     52012      G   /usr/bin/krunner                             36MiB |\r\n",
      "|    0   N/A  N/A     74929      G   /usr/bin/telegram-desktop                    32MiB |\r\n",
      "|    0   N/A  N/A    145609      G   /usr/bin/plasmashell                         89MiB |\r\n",
      "|    0   N/A  N/A    157456      G   ...35454217,2260994688081749193,131072       32MiB |\r\n",
      "+---------------------------------------------------------------------------------------+\r\n",
      "NVIDIA GeForce GTX 1650 Ti\n"
     ]
    }
   ],
   "source": [
    "device = torch.device('cuda' if torch.cuda.is_available() else 'cpu')\n",
    "if device.type == 'cuda':\n",
    "    !nvidia-smi\n",
    "    print(torch.cuda.get_device_name(0))\n",
    "\n",
    "else:\n",
    "    print(\"No GPU :(\")"
   ],
   "metadata": {
    "collapsed": false,
    "ExecuteTime": {
     "start_time": "2023-07-11T05:33:54.034279Z",
     "end_time": "2023-07-11T05:33:54.180135Z"
    }
   }
  },
  {
   "cell_type": "code",
   "execution_count": 3,
   "outputs": [],
   "source": [
    "device = 'cpu'"
   ],
   "metadata": {
    "collapsed": false,
    "ExecuteTime": {
     "start_time": "2023-07-11T05:33:54.183899Z",
     "end_time": "2023-07-11T05:33:54.185349Z"
    }
   }
  },
  {
   "cell_type": "markdown",
   "source": [
    "## Loading the data"
   ],
   "metadata": {
    "collapsed": false
   }
  },
  {
   "cell_type": "code",
   "execution_count": 4,
   "outputs": [],
   "source": [
    "resched_tasks = [\n",
    "        Task(telegram_id=0,\n",
    "             task_name=\"task_0\",\n",
    "             importance=2,\n",
    "             start_time=datetime.time(1, 30),\n",
    "             duration=100,\n",
    "             date=datetime.datetime.now().date()),\n",
    "    Task(telegram_id=0,\n",
    "             task_name=\"task_1\",\n",
    "             importance=2,\n",
    "             start_time=datetime.time(10, 20),\n",
    "             duration=20,\n",
    "             date=datetime.datetime.now().date()),\n",
    "\n",
    "    Task(telegram_id=0,\n",
    "            task_name=\"Task_2\",\n",
    "            importance=3,\n",
    "            start_time=datetime.time(13, 30),\n",
    "            duration=60,\n",
    "            date=datetime.datetime.now().date()),\n",
    "    Task(telegram_id=0,\n",
    "            task_name=\"Task_3\",\n",
    "            importance=1,\n",
    "            start_time=datetime.time(15, 30),\n",
    "            duration=30,\n",
    "            date=datetime.datetime.now().date()),\n",
    "    Task(telegram_id=0,\n",
    "            task_name=\"Task_4\",\n",
    "            importance=1,\n",
    "            start_time=datetime.time(16, 30),\n",
    "            duration=120,\n",
    "            date=datetime.datetime.now().date())]"
   ],
   "metadata": {
    "collapsed": false,
    "ExecuteTime": {
     "start_time": "2023-07-11T05:33:54.191840Z",
     "end_time": "2023-07-11T05:33:54.246072Z"
    }
   }
  },
  {
   "cell_type": "markdown",
   "source": [
    "## Init the model"
   ],
   "metadata": {
    "collapsed": false
   }
  },
  {
   "cell_type": "code",
   "execution_count": 5,
   "outputs": [
    {
     "data": {
      "text/plain": "<All keys matched successfully>"
     },
     "execution_count": 5,
     "metadata": {},
     "output_type": "execute_result"
    }
   ],
   "source": [
    "in_features = 22\n",
    "out_features = 3\n",
    "batch_size = 1\n",
    "n_layers = 1\n",
    "hidden_size = 124\n",
    "hidden_injector = 64\n",
    "\n",
    "free_time_slots = [[0, 1]]\n",
    "\n",
    "# Create the model\n",
    "SC_LSTM = Model(in_features, n_layers, hidden_size, out_features, batch_size, hidden_injector=hidden_injector).to(device)\n",
    "\n",
    "# Load the weights\n",
    "SC_LSTM.load_state_dict(torch.load('sc_lstm_weights.pth'))"
   ],
   "metadata": {
    "collapsed": false,
    "ExecuteTime": {
     "start_time": "2023-07-11T05:33:54.226618Z",
     "end_time": "2023-07-11T05:33:54.263378Z"
    }
   }
  },
  {
   "cell_type": "code",
   "execution_count": 6,
   "outputs": [
    {
     "name": "stdout",
     "output_type": "stream",
     "text": [
      "Real: (tensor(0.0625), tensor(0.3333)) ------- Predicted: [0.11528745 0.37316942 0.00015443]\n",
      "Real: (tensor(0.4306), tensor(0.0667)) ------- Predicted: [0.93125    0.09588564 0.00000249]\n",
      "Real: (tensor(0.5625), tensor(0.2000)) ------- Predicted: [0.9966372  0.06430619 0.00016303]\n",
      "Real: (tensor(0.6458), tensor(0.1000)) ------- Predicted: [0.93125    0.11990117 0.00000173]\n",
      "Real: (tensor(0.6875), tensor(0.4000)) ------- Predicted: [0.9982998  0.21354744 0.00007144]\n"
     ]
    },
    {
     "name": "stderr",
     "output_type": "stream",
     "text": [
      "/tmp/ipykernel_224737/1254715381.py:14: UserWarning: Creating a tensor from a list of numpy.ndarrays is extremely slow. Please consider converting the list to a single numpy.ndarray with numpy.array() before converting to a tensor. (Triggered internally at ../torch/csrc/utils/tensor_new.cpp:245.)\n",
      "  X = torch.Tensor([X]).type(torch.float32).to(device)\n"
     ]
    }
   ],
   "source": [
    "from Data_Test.Preprocessor import Preprocessor\n",
    "\n",
    "preproc = Preprocessor(alpha=1440, beta=300, num_lables=4, max_importance=5)\n",
    "\n",
    "\n",
    "# Test the model on input data\n",
    "SC_LSTM.reset_states()\n",
    "SC_LSTM.eval_model()\n",
    "predictions = []\n",
    "real = []\n",
    "\n",
    "for task in resched_tasks:\n",
    "    X = preproc.preprocess_data('resched', task, 1)\n",
    "    X = torch.Tensor([X]).type(torch.float32).to(device)\n",
    "    # print(X)\n",
    "    Y_pred = SC_LSTM.forward(X, task_type='resched', free_time_slots=free_time_slots, save_states=True)\n",
    "    # print(f\"Predicted: {Y_pred}, ---- Real: {X[0][13], X[0][4], 0}\")\n",
    "\n",
    "    # print prediction not in E notation\n",
    "    np.set_printoptions(suppress=True)\n",
    "    predictions.append(Y_pred[0].numpy())\n",
    "    real.append([X[0][13], X[0][4], 0])\n",
    "    print(f\"Real: {X[0][13], X[0][4]} ------- Predicted: {Y_pred[0].numpy()}\")\n"
   ],
   "metadata": {
    "collapsed": false,
    "ExecuteTime": {
     "start_time": "2023-07-11T05:33:54.263152Z",
     "end_time": "2023-07-11T05:33:54.310635Z"
    }
   }
  },
  {
   "cell_type": "code",
   "execution_count": 7,
   "outputs": [
    {
     "ename": "NameError",
     "evalue": "name 'input_data' is not defined",
     "output_type": "error",
     "traceback": [
      "\u001B[0;31m---------------------------------------------------------------------------\u001B[0m",
      "\u001B[0;31mNameError\u001B[0m                                 Traceback (most recent call last)",
      "Cell \u001B[0;32mIn[7], line 1\u001B[0m\n\u001B[0;32m----> 1\u001B[0m \u001B[38;5;28;01mfor\u001B[39;00m i \u001B[38;5;129;01min\u001B[39;00m \u001B[38;5;28mrange\u001B[39m(\u001B[38;5;241m0\u001B[39m, \u001B[38;5;28mlen\u001B[39m(\u001B[43minput_data\u001B[49m)):\n\u001B[1;32m      2\u001B[0m     X \u001B[38;5;241m=\u001B[39m torch\u001B[38;5;241m.\u001B[39mTensor([input_data[i]])\u001B[38;5;241m.\u001B[39mtype(torch\u001B[38;5;241m.\u001B[39mfloat32)\u001B[38;5;241m.\u001B[39mto(device)\n\u001B[1;32m      3\u001B[0m     Y \u001B[38;5;241m=\u001B[39m torch\u001B[38;5;241m.\u001B[39mTensor([output_data[i]])\u001B[38;5;241m.\u001B[39mtype(torch\u001B[38;5;241m.\u001B[39mfloat32)\u001B[38;5;241m.\u001B[39mto(device)\n",
      "\u001B[0;31mNameError\u001B[0m: name 'input_data' is not defined"
     ]
    }
   ],
   "source": [
    "\n",
    "\n",
    "for i in range(0, len(input_data)):\n",
    "    X = torch.Tensor([input_data[i]]).type(torch.float32).to(device)\n",
    "    Y = torch.Tensor([output_data[i]]).type(torch.float32).to(device)\n",
    "\n",
    "    Y_pred = SC_LSTM.forward(X, task_type='resched', free_time_slots=free_time_slots, save_states=True)\n",
    "\n",
    "    predictions.append(Y_pred[0].numpy())\n",
    "    real.append(Y[0].numpy())\n",
    "    print(f\"{i+1}) Predicted: {Y_pred[0]}\\n Real: {Y[0]}\\n Error: {torch.abs(Y_pred[0] - Y[0])}\\n\")\n",
    "\n",
    "# Print mean, min, and max error for each column\n",
    "errors = np.abs(np.array(predictions) - np.array(real))\n",
    "print(f\"Mean error: {np.mean(errors, axis=0)}\")\n",
    "print(f\"Min error: {np.min(errors, axis=0)}\")\n",
    "print(f\"Max error: {np.max(errors, axis=0)}\")\n",
    "\n",
    "\n",
    "# Mean error: [0.03400678 0.05854695 0.00183747]\n",
    "# Min error: [0.00568134 0.01077583 0.00074498]\n",
    "# Max error: [0.07480101 0.23154303 0.00484255]"
   ],
   "metadata": {
    "collapsed": false,
    "ExecuteTime": {
     "start_time": "2023-07-10T19:29:59.302504Z",
     "end_time": "2023-07-10T19:29:59.403362Z"
    }
   }
  },
  {
   "cell_type": "code",
   "execution_count": null,
   "outputs": [],
   "source": [
    "# Plot the barchart of an errors\n",
    "import matplotlib.pyplot as plt\n",
    "import numpy as np\n",
    "\n",
    "labels = ['Start Time', 'Duration', 'Importance']\n",
    "mean_errors = np.mean(errors, axis=0)\n",
    "min_errors = np.min(errors, axis=0)\n",
    "max_errors = np.max(errors, axis=0)\n",
    "\n",
    "x = np.arange(len(labels))  # the label locations\n",
    "width = 0.25  # the width of the bars\n",
    "\n",
    "fig, ax = plt.subplots(figsize=(10, 5))\n",
    "rects1 = ax.bar(x - width, mean_errors, width, label='Mean error')\n",
    "rects2 = ax.bar(x, min_errors, width, label='Min error')\n",
    "rects3 = ax.bar(x + width, max_errors, width, label='Max error')\n",
    "\n",
    "# Add some text for labels, title and custom x-axis tick labels, etc.\n",
    "ax.set_ylabel('Error')\n",
    "ax.set_title('Mean, min, and max error for each column')\n",
    "ax.set_xticks(x)\n",
    "ax.set_xticklabels(labels)\n",
    "ax.legend()\n",
    "\n",
    "ax.set_ylim([0, 0.5])\n",
    "\n",
    "fig.tight_layout()\n",
    "\n",
    "plt.show()"
   ],
   "metadata": {
    "collapsed": false,
    "ExecuteTime": {
     "start_time": "2023-07-10T19:29:59.384609Z",
     "end_time": "2023-07-10T19:29:59.658974Z"
    }
   }
  }
 ],
 "metadata": {
  "kernelspec": {
   "display_name": "Python 3",
   "language": "python",
   "name": "python3"
  },
  "language_info": {
   "codemirror_mode": {
    "name": "ipython",
    "version": 2
   },
   "file_extension": ".py",
   "mimetype": "text/x-python",
   "name": "python",
   "nbconvert_exporter": "python",
   "pygments_lexer": "ipython2",
   "version": "2.7.6"
  }
 },
 "nbformat": 4,
 "nbformat_minor": 0
}
