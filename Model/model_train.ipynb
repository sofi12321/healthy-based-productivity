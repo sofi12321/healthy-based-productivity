{
 "cells": [
  {
   "cell_type": "markdown",
   "source": [
    "# This file is used to train"
   ],
   "metadata": {
    "collapsed": false
   }
  },
  {
   "cell_type": "code",
   "execution_count": 21,
   "metadata": {
    "collapsed": true,
    "ExecuteTime": {
     "start_time": "2023-07-09T06:00:23.820168Z",
     "end_time": "2023-07-09T06:00:23.879923Z"
    }
   },
   "outputs": [],
   "source": [
    "import torch\n",
    "import numpy as np\n",
    "from tqdm import tqdm\n",
    "import pandas as pd\n",
    "from sc_model import SC_LSTM as Model"
   ]
  },
  {
   "cell_type": "markdown",
   "source": [
    "# Device init"
   ],
   "metadata": {
    "collapsed": false
   }
  },
  {
   "cell_type": "code",
   "execution_count": 22,
   "outputs": [
    {
     "name": "stdout",
     "output_type": "stream",
     "text": [
      "Sun Jul  9 06:00:23 2023       \r\n",
      "+---------------------------------------------------------------------------------------+\r\n",
      "| NVIDIA-SMI 530.41.03              Driver Version: 530.41.03    CUDA Version: 12.1     |\r\n",
      "|-----------------------------------------+----------------------+----------------------+\r\n",
      "| GPU  Name                  Persistence-M| Bus-Id        Disp.A | Volatile Uncorr. ECC |\r\n",
      "| Fan  Temp  Perf            Pwr:Usage/Cap|         Memory-Usage | GPU-Util  Compute M. |\r\n",
      "|                                         |                      |               MIG M. |\r\n",
      "|=========================================+======================+======================|\r\n",
      "|   0  NVIDIA GeForce GTX 1650 Ti      Off| 00000000:01:00.0  On |                  N/A |\r\n",
      "| N/A   45C    P5               10W /  N/A|    845MiB /  4096MiB |     27%      Default |\r\n",
      "|                                         |                      |                  N/A |\r\n",
      "+-----------------------------------------+----------------------+----------------------+\r\n",
      "                                                                                         \r\n",
      "+---------------------------------------------------------------------------------------+\r\n",
      "| Processes:                                                                            |\r\n",
      "|  GPU   GI   CI        PID   Type   Process name                            GPU Memory |\r\n",
      "|        ID   ID                                                             Usage      |\r\n",
      "|=======================================================================================|\r\n",
      "|    0   N/A  N/A       572      G   /usr/lib/Xorg                               316MiB |\r\n",
      "|    0   N/A  N/A       636      G   /usr/bin/kwalletd5                            1MiB |\r\n",
      "|    0   N/A  N/A       725      G   /usr/bin/ksmserver                            1MiB |\r\n",
      "|    0   N/A  N/A       727      G   /usr/bin/kded5                                1MiB |\r\n",
      "|    0   N/A  N/A       730      G   /usr/bin/kwin_x11                           109MiB |\r\n",
      "|    0   N/A  N/A       748      G   /usr/bin/plasmashell                         83MiB |\r\n",
      "|    0   N/A  N/A       799      G   ...b/polkit-kde-authentication-agent-1       15MiB |\r\n",
      "|    0   N/A  N/A       801      G   /usr/lib/xdg-desktop-portal-kde               1MiB |\r\n",
      "|    0   N/A  N/A       955      G   /usr/lib/kdeconnectd                          1MiB |\r\n",
      "|    0   N/A  N/A       958      G   /usr/bin/latte-dock                           8MiB |\r\n",
      "|    0   N/A  N/A       961      G   /usr/bin/telegram-desktop                     2MiB |\r\n",
      "|    0   N/A  N/A       966      G   /usr/bin/kaccess                              1MiB |\r\n",
      "|    0   N/A  N/A       974      G   /usr/bin/kalendarac                           1MiB |\r\n",
      "|    0   N/A  N/A       979      G   /usr/bin/kmix                                 1MiB |\r\n",
      "|    0   N/A  N/A       988      G   /usr/lib/DiscoverNotifier                     1MiB |\r\n",
      "|    0   N/A  N/A      1182      G   /usr/bin/ktorrent                             1MiB |\r\n",
      "|    0   N/A  N/A      1209      G   /usr/bin/yakuake                             15MiB |\r\n",
      "|    0   N/A  N/A      1418      G   ...35454217,2260994688081749193,131072      243MiB |\r\n",
      "|    0   N/A  N/A      2023      G   ...bin/plasma-browser-integration-host        1MiB |\r\n",
      "+---------------------------------------------------------------------------------------+\r\n",
      "NVIDIA GeForce GTX 1650 Ti\n"
     ]
    }
   ],
   "source": [
    "device = torch.device('cuda' if torch.cuda.is_available() else 'cpu')\n",
    "if device.type == 'cuda':\n",
    "    !nvidia-smi\n",
    "    print(torch.cuda.get_device_name(0))\n",
    "\n",
    "else:\n",
    "    print(\"No GPU :(\")"
   ],
   "metadata": {
    "collapsed": false,
    "ExecuteTime": {
     "start_time": "2023-07-09T06:00:23.827712Z",
     "end_time": "2023-07-09T06:00:24.658606Z"
    }
   }
  },
  {
   "cell_type": "code",
   "execution_count": 23,
   "outputs": [],
   "source": [
    "device = 'cpu'"
   ],
   "metadata": {
    "collapsed": false,
    "ExecuteTime": {
     "start_time": "2023-07-09T06:00:24.011986Z",
     "end_time": "2023-07-09T06:00:24.658768Z"
    }
   }
  },
  {
   "cell_type": "markdown",
   "source": [
    "## Loading the data"
   ],
   "metadata": {
    "collapsed": false
   }
  },
  {
   "cell_type": "code",
   "execution_count": 24,
   "outputs": [
    {
     "data": {
      "text/plain": "      Label Number  Duration  Importance Start Time        Date\n0                0        20           0      10:13  10/07/2023\n1                1        80           1      12:13  10/07/2023\n2                1        40           2      14:53  10/07/2023\n3                3       170           2      17:13  10/07/2023\n4                1        30           1      20:53  10/07/2023\n...            ...       ...         ...        ...         ...\n5386             2        70           0      15:25  16/09/2025\n5387             0        20           0      17:00  16/09/2025\n5388             1        80           1      18:45  16/09/2025\n5389             0        30           1      21:20  16/09/2025\n5390             1       110           1      22:05  16/09/2025\n\n[5391 rows x 5 columns]",
      "text/html": "<div>\n<style scoped>\n    .dataframe tbody tr th:only-of-type {\n        vertical-align: middle;\n    }\n\n    .dataframe tbody tr th {\n        vertical-align: top;\n    }\n\n    .dataframe thead th {\n        text-align: right;\n    }\n</style>\n<table border=\"1\" class=\"dataframe\">\n  <thead>\n    <tr style=\"text-align: right;\">\n      <th></th>\n      <th>Label Number</th>\n      <th>Duration</th>\n      <th>Importance</th>\n      <th>Start Time</th>\n      <th>Date</th>\n    </tr>\n  </thead>\n  <tbody>\n    <tr>\n      <th>0</th>\n      <td>0</td>\n      <td>20</td>\n      <td>0</td>\n      <td>10:13</td>\n      <td>10/07/2023</td>\n    </tr>\n    <tr>\n      <th>1</th>\n      <td>1</td>\n      <td>80</td>\n      <td>1</td>\n      <td>12:13</td>\n      <td>10/07/2023</td>\n    </tr>\n    <tr>\n      <th>2</th>\n      <td>1</td>\n      <td>40</td>\n      <td>2</td>\n      <td>14:53</td>\n      <td>10/07/2023</td>\n    </tr>\n    <tr>\n      <th>3</th>\n      <td>3</td>\n      <td>170</td>\n      <td>2</td>\n      <td>17:13</td>\n      <td>10/07/2023</td>\n    </tr>\n    <tr>\n      <th>4</th>\n      <td>1</td>\n      <td>30</td>\n      <td>1</td>\n      <td>20:53</td>\n      <td>10/07/2023</td>\n    </tr>\n    <tr>\n      <th>...</th>\n      <td>...</td>\n      <td>...</td>\n      <td>...</td>\n      <td>...</td>\n      <td>...</td>\n    </tr>\n    <tr>\n      <th>5386</th>\n      <td>2</td>\n      <td>70</td>\n      <td>0</td>\n      <td>15:25</td>\n      <td>16/09/2025</td>\n    </tr>\n    <tr>\n      <th>5387</th>\n      <td>0</td>\n      <td>20</td>\n      <td>0</td>\n      <td>17:00</td>\n      <td>16/09/2025</td>\n    </tr>\n    <tr>\n      <th>5388</th>\n      <td>1</td>\n      <td>80</td>\n      <td>1</td>\n      <td>18:45</td>\n      <td>16/09/2025</td>\n    </tr>\n    <tr>\n      <th>5389</th>\n      <td>0</td>\n      <td>30</td>\n      <td>1</td>\n      <td>21:20</td>\n      <td>16/09/2025</td>\n    </tr>\n    <tr>\n      <th>5390</th>\n      <td>1</td>\n      <td>110</td>\n      <td>1</td>\n      <td>22:05</td>\n      <td>16/09/2025</td>\n    </tr>\n  </tbody>\n</table>\n<p>5391 rows × 5 columns</p>\n</div>"
     },
     "execution_count": 24,
     "metadata": {},
     "output_type": "execute_result"
    }
   ],
   "source": [
    "from Data.PreprocessorOfGeneratedData import Preprocessor\n",
    "\n",
    "preproc = Preprocessor()\n",
    "\n",
    "data = pd.read_csv('../Data/schedule_gen.csv')\n",
    "data"
   ],
   "metadata": {
    "collapsed": false,
    "ExecuteTime": {
     "start_time": "2023-07-09T06:00:24.016050Z",
     "end_time": "2023-07-09T06:00:24.658956Z"
    }
   }
  },
  {
   "cell_type": "code",
   "execution_count": 25,
   "outputs": [
    {
     "data": {
      "text/plain": "      Label Number_0  Label Number_1  Label Number_2  Label Number_3  \\\n0                  0               0               0               0   \n1                  0               1               0               0   \n2                  0               0               0               0   \n3                  0               0               0               0   \n4                  0               0               0               0   \n...              ...             ...             ...             ...   \n5386               0               0               0               0   \n5387               0               0               0               0   \n5388               0               0               0               0   \n5389               0               0               0               0   \n5390               0               0               0               0   \n\n      Duration  Importance_0  Importance_1  Importance_2  Importance_3  \\\n0     0.090909             0             0             0             0   \n1     0.454545             0             1             0             0   \n2     0.212121             0             0             0             0   \n3     1.000000             0             0             0             0   \n4     0.151515             0             0             0             0   \n...        ...           ...           ...           ...           ...   \n5386  0.393939             0             0             0             0   \n5387  0.090909             0             0             0             0   \n5388  0.454545             0             0             0             0   \n5389  0.151515             0             0             0             0   \n5390  0.636364             0             0             0             0   \n\n      Time_Min  ...  Date_Month_sin  Date_Month_cos  Plan_Time_Min  \\\n0     0.425694  ...            -0.5   -8.660254e-01       0.422917   \n1     0.509028  ...            -0.5   -8.660254e-01       0.422917   \n2     0.620139  ...            -0.5   -8.660254e-01       0.422917   \n3     0.717361  ...            -0.5   -8.660254e-01       0.422917   \n4     0.870139  ...            -0.5   -8.660254e-01       0.862500   \n...        ...  ...             ...             ...            ...   \n5386  0.000000  ...             0.0    1.000000e+00       0.000000   \n5387  0.000000  ...            -1.0   -1.836970e-16       0.000000   \n5388  0.000000  ...             0.0    1.000000e+00       0.000000   \n5389  0.888889  ...            -1.0   -1.836970e-16       0.884722   \n5390  0.920139  ...            -1.0   -1.836970e-16       0.884722   \n\n      Plan_Time_Min_sin  Plan_Time_Min_cos  Plan_Date_Categorical  \\\n0              0.465615          -0.884988               0.523288   \n1              0.465615          -0.884988               0.523288   \n2              0.465615          -0.884988               0.523288   \n3              0.465615          -0.884988               0.523288   \n4             -0.760406           0.649448               0.523288   \n...                 ...                ...                    ...   \n5386           0.000000           1.000000               0.709589   \n5387           0.000000           1.000000               0.709589   \n5388           0.000000           1.000000               0.709589   \n5389          -0.662620           0.748956               0.709589   \n5390          -0.662620           0.748956               0.709589   \n\n      Plan_Date_Day_sin  Plan_Date_Day_cos  Plan_Date_Month_sin  \\\n0              0.897805          -0.440394                 -0.5   \n1              0.897805          -0.440394                 -0.5   \n2              0.897805          -0.440394                 -0.5   \n3              0.897805          -0.440394                 -0.5   \n4              0.897805          -0.440394                 -0.5   \n...                 ...                ...                  ...   \n5386          -0.207912          -0.978148                 -1.0   \n5387          -0.207912          -0.978148                 -1.0   \n5388          -0.207912          -0.978148                 -1.0   \n5389          -0.207912          -0.978148                 -1.0   \n5390          -0.207912          -0.978148                 -1.0   \n\n      Plan_Date_Month_cos  \n0           -8.660254e-01  \n1           -8.660254e-01  \n2           -8.660254e-01  \n3           -8.660254e-01  \n4           -8.660254e-01  \n...                   ...  \n5386        -1.836970e-16  \n5387        -1.836970e-16  \n5388        -1.836970e-16  \n5389        -1.836970e-16  \n5390        -1.836970e-16  \n\n[5391 rows x 25 columns]",
      "text/html": "<div>\n<style scoped>\n    .dataframe tbody tr th:only-of-type {\n        vertical-align: middle;\n    }\n\n    .dataframe tbody tr th {\n        vertical-align: top;\n    }\n\n    .dataframe thead th {\n        text-align: right;\n    }\n</style>\n<table border=\"1\" class=\"dataframe\">\n  <thead>\n    <tr style=\"text-align: right;\">\n      <th></th>\n      <th>Label Number_0</th>\n      <th>Label Number_1</th>\n      <th>Label Number_2</th>\n      <th>Label Number_3</th>\n      <th>Duration</th>\n      <th>Importance_0</th>\n      <th>Importance_1</th>\n      <th>Importance_2</th>\n      <th>Importance_3</th>\n      <th>Time_Min</th>\n      <th>...</th>\n      <th>Date_Month_sin</th>\n      <th>Date_Month_cos</th>\n      <th>Plan_Time_Min</th>\n      <th>Plan_Time_Min_sin</th>\n      <th>Plan_Time_Min_cos</th>\n      <th>Plan_Date_Categorical</th>\n      <th>Plan_Date_Day_sin</th>\n      <th>Plan_Date_Day_cos</th>\n      <th>Plan_Date_Month_sin</th>\n      <th>Plan_Date_Month_cos</th>\n    </tr>\n  </thead>\n  <tbody>\n    <tr>\n      <th>0</th>\n      <td>0</td>\n      <td>0</td>\n      <td>0</td>\n      <td>0</td>\n      <td>0.090909</td>\n      <td>0</td>\n      <td>0</td>\n      <td>0</td>\n      <td>0</td>\n      <td>0.425694</td>\n      <td>...</td>\n      <td>-0.5</td>\n      <td>-8.660254e-01</td>\n      <td>0.422917</td>\n      <td>0.465615</td>\n      <td>-0.884988</td>\n      <td>0.523288</td>\n      <td>0.897805</td>\n      <td>-0.440394</td>\n      <td>-0.5</td>\n      <td>-8.660254e-01</td>\n    </tr>\n    <tr>\n      <th>1</th>\n      <td>0</td>\n      <td>1</td>\n      <td>0</td>\n      <td>0</td>\n      <td>0.454545</td>\n      <td>0</td>\n      <td>1</td>\n      <td>0</td>\n      <td>0</td>\n      <td>0.509028</td>\n      <td>...</td>\n      <td>-0.5</td>\n      <td>-8.660254e-01</td>\n      <td>0.422917</td>\n      <td>0.465615</td>\n      <td>-0.884988</td>\n      <td>0.523288</td>\n      <td>0.897805</td>\n      <td>-0.440394</td>\n      <td>-0.5</td>\n      <td>-8.660254e-01</td>\n    </tr>\n    <tr>\n      <th>2</th>\n      <td>0</td>\n      <td>0</td>\n      <td>0</td>\n      <td>0</td>\n      <td>0.212121</td>\n      <td>0</td>\n      <td>0</td>\n      <td>0</td>\n      <td>0</td>\n      <td>0.620139</td>\n      <td>...</td>\n      <td>-0.5</td>\n      <td>-8.660254e-01</td>\n      <td>0.422917</td>\n      <td>0.465615</td>\n      <td>-0.884988</td>\n      <td>0.523288</td>\n      <td>0.897805</td>\n      <td>-0.440394</td>\n      <td>-0.5</td>\n      <td>-8.660254e-01</td>\n    </tr>\n    <tr>\n      <th>3</th>\n      <td>0</td>\n      <td>0</td>\n      <td>0</td>\n      <td>0</td>\n      <td>1.000000</td>\n      <td>0</td>\n      <td>0</td>\n      <td>0</td>\n      <td>0</td>\n      <td>0.717361</td>\n      <td>...</td>\n      <td>-0.5</td>\n      <td>-8.660254e-01</td>\n      <td>0.422917</td>\n      <td>0.465615</td>\n      <td>-0.884988</td>\n      <td>0.523288</td>\n      <td>0.897805</td>\n      <td>-0.440394</td>\n      <td>-0.5</td>\n      <td>-8.660254e-01</td>\n    </tr>\n    <tr>\n      <th>4</th>\n      <td>0</td>\n      <td>0</td>\n      <td>0</td>\n      <td>0</td>\n      <td>0.151515</td>\n      <td>0</td>\n      <td>0</td>\n      <td>0</td>\n      <td>0</td>\n      <td>0.870139</td>\n      <td>...</td>\n      <td>-0.5</td>\n      <td>-8.660254e-01</td>\n      <td>0.862500</td>\n      <td>-0.760406</td>\n      <td>0.649448</td>\n      <td>0.523288</td>\n      <td>0.897805</td>\n      <td>-0.440394</td>\n      <td>-0.5</td>\n      <td>-8.660254e-01</td>\n    </tr>\n    <tr>\n      <th>...</th>\n      <td>...</td>\n      <td>...</td>\n      <td>...</td>\n      <td>...</td>\n      <td>...</td>\n      <td>...</td>\n      <td>...</td>\n      <td>...</td>\n      <td>...</td>\n      <td>...</td>\n      <td>...</td>\n      <td>...</td>\n      <td>...</td>\n      <td>...</td>\n      <td>...</td>\n      <td>...</td>\n      <td>...</td>\n      <td>...</td>\n      <td>...</td>\n      <td>...</td>\n      <td>...</td>\n    </tr>\n    <tr>\n      <th>5386</th>\n      <td>0</td>\n      <td>0</td>\n      <td>0</td>\n      <td>0</td>\n      <td>0.393939</td>\n      <td>0</td>\n      <td>0</td>\n      <td>0</td>\n      <td>0</td>\n      <td>0.000000</td>\n      <td>...</td>\n      <td>0.0</td>\n      <td>1.000000e+00</td>\n      <td>0.000000</td>\n      <td>0.000000</td>\n      <td>1.000000</td>\n      <td>0.709589</td>\n      <td>-0.207912</td>\n      <td>-0.978148</td>\n      <td>-1.0</td>\n      <td>-1.836970e-16</td>\n    </tr>\n    <tr>\n      <th>5387</th>\n      <td>0</td>\n      <td>0</td>\n      <td>0</td>\n      <td>0</td>\n      <td>0.090909</td>\n      <td>0</td>\n      <td>0</td>\n      <td>0</td>\n      <td>0</td>\n      <td>0.000000</td>\n      <td>...</td>\n      <td>-1.0</td>\n      <td>-1.836970e-16</td>\n      <td>0.000000</td>\n      <td>0.000000</td>\n      <td>1.000000</td>\n      <td>0.709589</td>\n      <td>-0.207912</td>\n      <td>-0.978148</td>\n      <td>-1.0</td>\n      <td>-1.836970e-16</td>\n    </tr>\n    <tr>\n      <th>5388</th>\n      <td>0</td>\n      <td>0</td>\n      <td>0</td>\n      <td>0</td>\n      <td>0.454545</td>\n      <td>0</td>\n      <td>0</td>\n      <td>0</td>\n      <td>0</td>\n      <td>0.000000</td>\n      <td>...</td>\n      <td>0.0</td>\n      <td>1.000000e+00</td>\n      <td>0.000000</td>\n      <td>0.000000</td>\n      <td>1.000000</td>\n      <td>0.709589</td>\n      <td>-0.207912</td>\n      <td>-0.978148</td>\n      <td>-1.0</td>\n      <td>-1.836970e-16</td>\n    </tr>\n    <tr>\n      <th>5389</th>\n      <td>0</td>\n      <td>0</td>\n      <td>0</td>\n      <td>0</td>\n      <td>0.151515</td>\n      <td>0</td>\n      <td>0</td>\n      <td>0</td>\n      <td>0</td>\n      <td>0.888889</td>\n      <td>...</td>\n      <td>-1.0</td>\n      <td>-1.836970e-16</td>\n      <td>0.884722</td>\n      <td>-0.662620</td>\n      <td>0.748956</td>\n      <td>0.709589</td>\n      <td>-0.207912</td>\n      <td>-0.978148</td>\n      <td>-1.0</td>\n      <td>-1.836970e-16</td>\n    </tr>\n    <tr>\n      <th>5390</th>\n      <td>0</td>\n      <td>0</td>\n      <td>0</td>\n      <td>0</td>\n      <td>0.636364</td>\n      <td>0</td>\n      <td>0</td>\n      <td>0</td>\n      <td>0</td>\n      <td>0.920139</td>\n      <td>...</td>\n      <td>-1.0</td>\n      <td>-1.836970e-16</td>\n      <td>0.884722</td>\n      <td>-0.662620</td>\n      <td>0.748956</td>\n      <td>0.709589</td>\n      <td>-0.207912</td>\n      <td>-0.978148</td>\n      <td>-1.0</td>\n      <td>-1.836970e-16</td>\n    </tr>\n  </tbody>\n</table>\n<p>5391 rows × 25 columns</p>\n</div>"
     },
     "execution_count": 25,
     "metadata": {},
     "output_type": "execute_result"
    }
   ],
   "source": [
    "input_data, type_vector, output_data = preproc.preprocess('../Data/schedule_gen.csv')\n",
    "input_data"
   ],
   "metadata": {
    "collapsed": false,
    "ExecuteTime": {
     "start_time": "2023-07-09T06:00:24.062238Z",
     "end_time": "2023-07-09T06:00:31.015369Z"
    }
   }
  },
  {
   "cell_type": "code",
   "execution_count": 26,
   "outputs": [
    {
     "data": {
      "text/plain": "             0         1         2\n0     0.425694  0.013889  0.000000\n1     0.509028  0.057639  0.002083\n2     0.620139  0.027778  0.000000\n3     0.717361  0.118056  0.000000\n4     0.870139  0.020833  0.000000\n...        ...       ...       ...\n5386  0.000000  0.048611  0.000000\n5387  0.000000  0.013889  0.000000\n5388  0.000000  0.055556  0.000000\n5389  0.888889  0.030556  0.009722\n5390  0.920139  0.079167  0.002778\n\n[5391 rows x 3 columns]",
      "text/html": "<div>\n<style scoped>\n    .dataframe tbody tr th:only-of-type {\n        vertical-align: middle;\n    }\n\n    .dataframe tbody tr th {\n        vertical-align: top;\n    }\n\n    .dataframe thead th {\n        text-align: right;\n    }\n</style>\n<table border=\"1\" class=\"dataframe\">\n  <thead>\n    <tr style=\"text-align: right;\">\n      <th></th>\n      <th>0</th>\n      <th>1</th>\n      <th>2</th>\n    </tr>\n  </thead>\n  <tbody>\n    <tr>\n      <th>0</th>\n      <td>0.425694</td>\n      <td>0.013889</td>\n      <td>0.000000</td>\n    </tr>\n    <tr>\n      <th>1</th>\n      <td>0.509028</td>\n      <td>0.057639</td>\n      <td>0.002083</td>\n    </tr>\n    <tr>\n      <th>2</th>\n      <td>0.620139</td>\n      <td>0.027778</td>\n      <td>0.000000</td>\n    </tr>\n    <tr>\n      <th>3</th>\n      <td>0.717361</td>\n      <td>0.118056</td>\n      <td>0.000000</td>\n    </tr>\n    <tr>\n      <th>4</th>\n      <td>0.870139</td>\n      <td>0.020833</td>\n      <td>0.000000</td>\n    </tr>\n    <tr>\n      <th>...</th>\n      <td>...</td>\n      <td>...</td>\n      <td>...</td>\n    </tr>\n    <tr>\n      <th>5386</th>\n      <td>0.000000</td>\n      <td>0.048611</td>\n      <td>0.000000</td>\n    </tr>\n    <tr>\n      <th>5387</th>\n      <td>0.000000</td>\n      <td>0.013889</td>\n      <td>0.000000</td>\n    </tr>\n    <tr>\n      <th>5388</th>\n      <td>0.000000</td>\n      <td>0.055556</td>\n      <td>0.000000</td>\n    </tr>\n    <tr>\n      <th>5389</th>\n      <td>0.888889</td>\n      <td>0.030556</td>\n      <td>0.009722</td>\n    </tr>\n    <tr>\n      <th>5390</th>\n      <td>0.920139</td>\n      <td>0.079167</td>\n      <td>0.002778</td>\n    </tr>\n  </tbody>\n</table>\n<p>5391 rows × 3 columns</p>\n</div>"
     },
     "execution_count": 26,
     "metadata": {},
     "output_type": "execute_result"
    }
   ],
   "source": [
    "# Make the data positive\n",
    "output_data = np.abs(np.array(output_data, dtype=np.float64))\n",
    "pd.DataFrame(output_data)"
   ],
   "metadata": {
    "collapsed": false,
    "ExecuteTime": {
     "start_time": "2023-07-09T06:00:31.015306Z",
     "end_time": "2023-07-09T06:00:31.023528Z"
    }
   }
  },
  {
   "cell_type": "code",
   "execution_count": 27,
   "outputs": [],
   "source": [
    "from sklearn.preprocessing import MinMaxScaler\n",
    "\n",
    "# Normalize input data\n",
    "scaler = MinMaxScaler()\n",
    "input_data = scaler.fit_transform(input_data)"
   ],
   "metadata": {
    "collapsed": false,
    "ExecuteTime": {
     "start_time": "2023-07-09T06:00:31.024306Z",
     "end_time": "2023-07-09T06:00:31.142302Z"
    }
   }
  },
  {
   "cell_type": "markdown",
   "source": [
    "## Creating the dataset"
   ],
   "metadata": {
    "collapsed": false
   }
  },
  {
   "cell_type": "code",
   "execution_count": 28,
   "outputs": [],
   "source": [
    "from torch.utils.data import Dataset, DataLoader\n",
    "\n",
    "class ScheduleDataset(Dataset):\n",
    "    def __init__(self, input_data, type_vector, output_vector, task_types='all', transform=None):\n",
    "        if task_types == 'all':\n",
    "            self.input_data = input_data\n",
    "            self.type_vector = type_vector\n",
    "            self.output_vector = output_vector\n",
    "        elif task_types == 'resched':\n",
    "            self.input_data = []\n",
    "            self.type_vector = []\n",
    "            self.output_vector = []\n",
    "            for i in range(len(input_data)):\n",
    "                if type_vector[i] == \"resched\":\n",
    "                    self.input_data.append(input_data[i])\n",
    "                    self.type_vector.append(type_vector[i])\n",
    "                    self.output_vector.append(output_vector[i])\n",
    "        elif task_types == 'non-resched':\n",
    "            self.input_data = []\n",
    "            self.type_vector = []\n",
    "            self.output_vector = []\n",
    "            for i in range(len(input_data)):\n",
    "                if type_vector[i] == \"non-resched\":\n",
    "                    self.input_data.append(input_data[i])\n",
    "                    self.type_vector.append(type_vector[i])\n",
    "                    self.output_vector.append(output_vector[i])\n",
    "        else:\n",
    "            raise ValueError(\"task_types must be 'all', 'resched', or 'non-resched'\")\n",
    "        self.transform = transform\n",
    "\n",
    "    def __len__(self):\n",
    "        return len(self.input_data)\n",
    "\n",
    "    def __getitem__(self, idx):\n",
    "        return self.input_data[idx], self.type_vector[idx], self.output_vector[idx]"
   ],
   "metadata": {
    "collapsed": false,
    "ExecuteTime": {
     "start_time": "2023-07-09T06:00:31.065286Z",
     "end_time": "2023-07-09T06:00:31.175838Z"
    }
   }
  },
  {
   "cell_type": "code",
   "execution_count": 29,
   "outputs": [
    {
     "name": "stdout",
     "output_type": "stream",
     "text": [
      "Resched dataset size: 4330\n",
      "Non-resched dataset size: 1061\n",
      "All dataset size: 5391\n"
     ]
    }
   ],
   "source": [
    "resched_dataset = ScheduleDataset(input_data, type_vector, output_data, task_types='resched')\n",
    "non_resched_dataset = ScheduleDataset(input_data, type_vector, output_data, task_types='non-resched')\n",
    "all_dataset = ScheduleDataset(input_data, type_vector, output_data, task_types='all')\n",
    "\n",
    "print(f\"Resched dataset size: {len(resched_dataset)}\\n\"\n",
    "      f\"Non-resched dataset size: {len(non_resched_dataset)}\\n\"\n",
    "      f\"All dataset size: {len(all_dataset)}\")"
   ],
   "metadata": {
    "collapsed": false,
    "ExecuteTime": {
     "start_time": "2023-07-09T06:00:31.106160Z",
     "end_time": "2023-07-09T06:00:31.176239Z"
    }
   }
  },
  {
   "cell_type": "markdown",
   "source": [
    "## Create dataloaders"
   ],
   "metadata": {
    "collapsed": false
   }
  },
  {
   "cell_type": "code",
   "execution_count": 30,
   "outputs": [],
   "source": [
    "batch_size = 1\n",
    "# resched_dataset_size = len(resched_dataset)\n",
    "# train_size = int(resched_dataset_size * 0.8)\n",
    "# test_size = resched_dataset_size - train_size\n",
    "#\n",
    "# train_resched_dataset, test_resched_dataset = torch.utils.data.random_split(resched_dataset, [train_size, test_size])\n",
    "\n",
    "train_resched_dataloader = DataLoader(resched_dataset, batch_size=batch_size)\n",
    "# valid_resched_dataloader = DataLoader2(resched_dataset, batch_size=batch_size)\n",
    "\n",
    "train_non_resched_dataloader = DataLoader(non_resched_dataset, batch_size=batch_size)"
   ],
   "metadata": {
    "collapsed": false,
    "ExecuteTime": {
     "start_time": "2023-07-09T06:00:31.106689Z",
     "end_time": "2023-07-09T06:00:31.177421Z"
    }
   }
  },
  {
   "cell_type": "markdown",
   "source": [
    "## Create free time slots generator"
   ],
   "metadata": {
    "collapsed": false
   }
  },
  {
   "cell_type": "code",
   "execution_count": 31,
   "outputs": [
    {
     "data": {
      "text/plain": "array([[0.01015516, 0.05371325],\n       [0.51721207, 0.65374482],\n       [0.91265338, 0.91906076],\n       [0.93853838, 0.9401393 ]])"
     },
     "execution_count": 31,
     "metadata": {},
     "output_type": "execute_result"
    }
   ],
   "source": [
    "from Data.GeneratorOfAvailableTimeslots import GeneratorOfAvailableTimeslots\n",
    "\n",
    "time_slots_gen = GeneratorOfAvailableTimeslots(5)\n",
    "time_slots = time_slots_gen.generate_available_timeslots()\n",
    "\n",
    "time_slots      # TODO: why all the intervals are closed?\n",
    "single_interval = time_slots[0]\n",
    "single_interval\n"
   ],
   "metadata": {
    "collapsed": false,
    "ExecuteTime": {
     "start_time": "2023-07-09T06:00:31.147980Z",
     "end_time": "2023-07-09T06:00:31.177830Z"
    }
   }
  },
  {
   "cell_type": "markdown",
   "source": [
    "## Init the model"
   ],
   "metadata": {
    "collapsed": false
   }
  },
  {
   "cell_type": "code",
   "execution_count": 32,
   "outputs": [],
   "source": [
    "# check if the dataloader works and get the input and output sizes\n",
    "in_features = None\n",
    "out_features = None\n",
    "for i, (features, a, ans) in enumerate(train_resched_dataloader):\n",
    "    in_features = features.shape[1]             # 25\n",
    "    out_features = ans.shape[1]                 # 3\n",
    "    break\n",
    "\n",
    "n_layers = 1\n",
    "hidden_size = 124\n",
    "hidden_injector = 64\n",
    "\n",
    "# Create the model\n",
    "SC_LSTM = Model(in_features, n_layers, hidden_size, out_features, batch_size, hidden_injector=hidden_injector).to(device)"
   ],
   "metadata": {
    "collapsed": false,
    "ExecuteTime": {
     "start_time": "2023-07-09T06:00:31.148677Z",
     "end_time": "2023-07-09T06:00:31.219046Z"
    }
   }
  },
  {
   "cell_type": "markdown",
   "source": [
    "# Training the model"
   ],
   "metadata": {
    "collapsed": false
   }
  },
  {
   "cell_type": "code",
   "execution_count": 33,
   "outputs": [],
   "source": [
    "# Configure hyper-parameters\n",
    "epochs = 10\n",
    "learning_rate = 0.001\n",
    "loss_func = torch.nn.MSELoss()\n",
    "optimizer = torch.optim.Adam(SC_LSTM.parameters(), lr=learning_rate)\n",
    "\n",
    "history = []\n",
    "loss_accomulator = []\n",
    "mean_loss = None"
   ],
   "metadata": {
    "collapsed": false,
    "ExecuteTime": {
     "start_time": "2023-07-09T06:00:31.177144Z",
     "end_time": "2023-07-09T06:00:31.230218Z"
    }
   }
  },
  {
   "cell_type": "code",
   "execution_count": 34,
   "outputs": [
    {
     "name": "stderr",
     "output_type": "stream",
     "text": [
      "                                                                                                 6.30it/s]\r"
     ]
    }
   ],
   "source": [
    "# Firstly train the LSTM using only reschedulable tasks\n",
    "SC_LSTM.train_model(mode='lstm')\n",
    "\n",
    "for epoch in range(0, epochs):\n",
    "    SC_LSTM.reset_states()\n",
    "    for i, (X, task_type, Y) in enumerate(tqdm(train_resched_dataloader, desc=f\"Epoch: {epoch + 1}, Mean Loss: {mean_loss}\", leave=False, colour='green')):\n",
    "\n",
    "        # Convert X and Y to the correct type\n",
    "        X = torch.Tensor(X).type(torch.float32).to(device)\n",
    "        Y = torch.Tensor(Y).type(torch.float32).to(device)\n",
    "\n",
    "        # Make prediction\n",
    "        Y_pred = SC_LSTM.forward(X, task_type=task_type, free_time_slots=single_interval, save_states=True)\n",
    "\n",
    "        # Calculate loss\n",
    "        loss = loss_func(Y_pred.view(-1, ), Y.view(-1, ))\n",
    "\n",
    "        # Backward pass\n",
    "        loss.backward()\n",
    "        optimizer.step()\n",
    "        optimizer.zero_grad()\n",
    "\n",
    "        # Append loss to list\n",
    "        loss_accomulator.append(loss.item())\n",
    "\n",
    "    mean_loss = np.mean(loss_accomulator)\n",
    "    history.append(mean_loss)\n",
    "    loss_accomulator = []"
   ],
   "metadata": {
    "collapsed": false,
    "ExecuteTime": {
     "start_time": "2023-07-09T06:00:31.218437Z",
     "end_time": "2023-07-09T06:01:36.524343Z"
    }
   }
  },
  {
   "cell_type": "code",
   "execution_count": 35,
   "outputs": [
    {
     "data": {
      "text/plain": "<Figure size 640x480 with 1 Axes>",
      "image/png": "[encoded data removed]"
     },
     "metadata": {},
     "output_type": "display_data"
    }
   ],
   "source": [
    "import matplotlib.pyplot as plt\n",
    "# Plot the loss history\n",
    "plt.plot(history)\n",
    "plt.xlabel(\"Epoch\")\n",
    "plt.ylabel(\"Loss\")\n",
    "plt.title(\"Loss history\")\n",
    "plt.show()"
   ],
   "metadata": {
    "collapsed": false,
    "ExecuteTime": {
     "start_time": "2023-07-09T06:01:36.524276Z",
     "end_time": "2023-07-09T06:01:36.670192Z"
    }
   }
  },
  {
   "cell_type": "code",
   "execution_count": 36,
   "outputs": [],
   "source": [
    "# Configure hyper-parameters\n",
    "epochs = 20\n",
    "learning_rate = 0.001\n",
    "loss_func = torch.nn.MSELoss()\n",
    "optimizer = torch.optim.Adam(SC_LSTM.parameters(), lr=learning_rate)\n",
    "\n",
    "history = []\n",
    "loss_accomulator = []"
   ],
   "metadata": {
    "collapsed": false,
    "ExecuteTime": {
     "start_time": "2023-07-09T06:01:36.670346Z",
     "end_time": "2023-07-09T06:01:36.670544Z"
    }
   }
  },
  {
   "cell_type": "code",
   "execution_count": 37,
   "outputs": [
    {
     "name": "stderr",
     "output_type": "stream",
     "text": [
      "                                                                                                 7.65it/s]s]\r"
     ]
    }
   ],
   "source": [
    "# Now train the injector using non-reschedulable tasks\n",
    "SC_LSTM.train_model(mode='injector')\n",
    "\n",
    "for epoch in range(0, epochs):\n",
    "    SC_LSTM.reset_states()\n",
    "\n",
    "    for i, (X, task_type, Y) in enumerate(tqdm(train_non_resched_dataloader, desc=f\"Epoch: {epoch + 1}, Mean Loss: {mean_loss}\", leave=False, colour='green')):\n",
    "\n",
    "        # Convert X and Y to the correct type\n",
    "        X = torch.Tensor(X).type(torch.float32).to(device)\n",
    "        Y = torch.Tensor(Y).type(torch.float32).to(device)\n",
    "\n",
    "        # Make prediction\n",
    "        Y_pred = SC_LSTM.forward(X, task_type=task_type, free_time_slots=single_interval, save_states=True)\n",
    "\n",
    "        # Calculate loss\n",
    "        loss = loss_func(Y_pred.view(-1, ), Y.view(-1, ))\n",
    "\n",
    "        # Backward pass\n",
    "        loss.backward()\n",
    "        optimizer.step()\n",
    "        optimizer.zero_grad()\n",
    "\n",
    "        # Append loss to list\n",
    "        loss_accomulator.append(loss.item())\n",
    "\n",
    "    mean_loss = np.mean(loss_accomulator)\n",
    "    history.append(mean_loss)\n",
    "    loss_accomulator = []"
   ],
   "metadata": {
    "collapsed": false,
    "ExecuteTime": {
     "start_time": "2023-07-09T06:01:36.670503Z",
     "end_time": "2023-07-09T06:01:49.994006Z"
    }
   }
  },
  {
   "cell_type": "code",
   "execution_count": 38,
   "outputs": [
    {
     "data": {
      "text/plain": "<Figure size 640x480 with 1 Axes>",
      "image/png": "[encoded data removed]"
     },
     "metadata": {},
     "output_type": "display_data"
    }
   ],
   "source": [
    "# Plot the loss history\n",
    "plt.plot(history)\n",
    "plt.xlabel(\"Epoch\")\n",
    "plt.ylabel(\"Loss\")\n",
    "plt.title(\"Loss history\")\n",
    "plt.show()"
   ],
   "metadata": {
    "collapsed": false,
    "ExecuteTime": {
     "start_time": "2023-07-09T06:01:50.009372Z",
     "end_time": "2023-07-09T06:01:50.162980Z"
    }
   }
  },
  {
   "cell_type": "markdown",
   "source": [
    "# Save weights"
   ],
   "metadata": {
    "collapsed": false
   }
  },
  {
   "cell_type": "code",
   "execution_count": 39,
   "outputs": [],
   "source": [
    "torch.save(SC_LSTM.state_dict(), \"sc_lstm_weights.pth\")"
   ],
   "metadata": {
    "collapsed": false,
    "ExecuteTime": {
     "start_time": "2023-07-09T06:01:50.147400Z",
     "end_time": "2023-07-09T06:01:50.163242Z"
    }
   }
  }
 ],
 "metadata": {
  "kernelspec": {
   "display_name": "Python 3",
   "language": "python",
   "name": "python3"
  },
  "language_info": {
   "codemirror_mode": {
    "name": "ipython",
    "version": 2
   },
   "file_extension": ".py",
   "mimetype": "text/x-python",
   "name": "python",
   "nbconvert_exporter": "python",
   "pygments_lexer": "ipython2",
   "version": "2.7.6"
  }
 },
 "nbformat": 4,
 "nbformat_minor": 0
}
